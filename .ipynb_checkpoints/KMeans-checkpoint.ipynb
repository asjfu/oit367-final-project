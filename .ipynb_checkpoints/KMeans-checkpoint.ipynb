{
 "cells": [
  {
   "cell_type": "code",
   "execution_count": 246,
   "id": "76e295d2",
   "metadata": {},
   "outputs": [],
   "source": [
    "import pandas as pd\n",
    "import numpy as np\n",
    "import matplotlib.pyplot as plt\n",
    "from sklearn.metrics import roc_auc_score, roc_curve, auc\n",
    "from sklearn.model_selection import cross_val_score, KFold\n",
    "from sklearn.model_selection import train_test_split\n",
    "from sklearn.ensemble import GradientBoostingRegressor\n",
    "from xgboost import XGBClassifier"
   ]
  },
  {
   "cell_type": "code",
   "execution_count": 247,
   "id": "c053c3f4",
   "metadata": {},
   "outputs": [
    {
     "ename": "ValueError",
     "evalue": "numpy.ndarray size changed, may indicate binary incompatibility. Expected 96 from C header, got 88 from PyObject",
     "output_type": "error",
     "traceback": [
      "\u001b[0;31m---------------------------------------------------------------------------\u001b[0m",
      "\u001b[0;31mValueError\u001b[0m                                Traceback (most recent call last)",
      "Input \u001b[0;32mIn [247]\u001b[0m, in \u001b[0;36m<cell line: 1>\u001b[0;34m()\u001b[0m\n\u001b[0;32m----> 1\u001b[0m \u001b[38;5;28;01mfrom\u001b[39;00m \u001b[38;5;21;01mk_means_constrained\u001b[39;00m \u001b[38;5;28;01mimport\u001b[39;00m KMeansConstrained\n",
      "File \u001b[0;32m~/opt/anaconda3/lib/python3.9/site-packages/k_means_constrained/__init__.py:4\u001b[0m, in \u001b[0;36m<module>\u001b[0;34m\u001b[0m\n\u001b[1;32m      2\u001b[0m __all__ \u001b[38;5;241m=\u001b[39m [\u001b[38;5;124m'\u001b[39m\u001b[38;5;124mKMeansConstrained\u001b[39m\u001b[38;5;124m'\u001b[39m]\n\u001b[0;32m----> 4\u001b[0m \u001b[38;5;28;01mfrom\u001b[39;00m \u001b[38;5;21;01m.\u001b[39;00m\u001b[38;5;21;01mk_means_constrained_\u001b[39;00m \u001b[38;5;28;01mimport\u001b[39;00m KMeansConstrained\n",
      "File \u001b[0;32m~/opt/anaconda3/lib/python3.9/site-packages/k_means_constrained/k_means_constrained_.py:18\u001b[0m, in \u001b[0;36m<module>\u001b[0;34m\u001b[0m\n\u001b[1;32m     16\u001b[0m \u001b[38;5;28;01mimport\u001b[39;00m \u001b[38;5;21;01mnumpy\u001b[39;00m \u001b[38;5;28;01mas\u001b[39;00m \u001b[38;5;21;01mnp\u001b[39;00m\n\u001b[1;32m     17\u001b[0m \u001b[38;5;28;01mimport\u001b[39;00m \u001b[38;5;21;01mscipy\u001b[39;00m\u001b[38;5;21;01m.\u001b[39;00m\u001b[38;5;21;01msparse\u001b[39;00m \u001b[38;5;28;01mas\u001b[39;00m \u001b[38;5;21;01msp\u001b[39;00m\n\u001b[0;32m---> 18\u001b[0m \u001b[38;5;28;01mfrom\u001b[39;00m \u001b[38;5;21;01m.\u001b[39;00m\u001b[38;5;21;01msklearn_import\u001b[39;00m\u001b[38;5;21;01m.\u001b[39;00m\u001b[38;5;21;01mmetrics\u001b[39;00m\u001b[38;5;21;01m.\u001b[39;00m\u001b[38;5;21;01mpairwise\u001b[39;00m \u001b[38;5;28;01mimport\u001b[39;00m euclidean_distances\n\u001b[1;32m     19\u001b[0m \u001b[38;5;28;01mfrom\u001b[39;00m \u001b[38;5;21;01m.\u001b[39;00m\u001b[38;5;21;01msklearn_import\u001b[39;00m\u001b[38;5;21;01m.\u001b[39;00m\u001b[38;5;21;01mutils\u001b[39;00m\u001b[38;5;21;01m.\u001b[39;00m\u001b[38;5;21;01mextmath\u001b[39;00m \u001b[38;5;28;01mimport\u001b[39;00m row_norms, squared_norm, cartesian\n\u001b[1;32m     20\u001b[0m \u001b[38;5;28;01mfrom\u001b[39;00m \u001b[38;5;21;01m.\u001b[39;00m\u001b[38;5;21;01msklearn_import\u001b[39;00m\u001b[38;5;21;01m.\u001b[39;00m\u001b[38;5;21;01mutils\u001b[39;00m\u001b[38;5;21;01m.\u001b[39;00m\u001b[38;5;21;01mvalidation\u001b[39;00m \u001b[38;5;28;01mimport\u001b[39;00m check_array, check_random_state, as_float_array, check_is_fitted\n",
      "File \u001b[0;32m~/opt/anaconda3/lib/python3.9/site-packages/k_means_constrained/sklearn_import/metrics/pairwise.py:10\u001b[0m, in \u001b[0;36m<module>\u001b[0;34m\u001b[0m\n\u001b[1;32m      7\u001b[0m \u001b[38;5;28;01mfrom\u001b[39;00m \u001b[38;5;21;01mscipy\u001b[39;00m\u001b[38;5;21;01m.\u001b[39;00m\u001b[38;5;21;01mspatial\u001b[39;00m \u001b[38;5;28;01mimport\u001b[39;00m distance\n\u001b[1;32m      8\u001b[0m \u001b[38;5;28;01mfrom\u001b[39;00m \u001b[38;5;21;01mjoblib\u001b[39;00m \u001b[38;5;28;01mimport\u001b[39;00m cpu_count, delayed, Parallel\n\u001b[0;32m---> 10\u001b[0m \u001b[38;5;28;01mfrom\u001b[39;00m \u001b[38;5;21;01mk_means_constrained\u001b[39;00m\u001b[38;5;21;01m.\u001b[39;00m\u001b[38;5;21;01msklearn_import\u001b[39;00m\u001b[38;5;21;01m.\u001b[39;00m\u001b[38;5;21;01mmetrics\u001b[39;00m\u001b[38;5;21;01m.\u001b[39;00m\u001b[38;5;21;01mpairwise_fast\u001b[39;00m \u001b[38;5;28;01mimport\u001b[39;00m _sparse_manhattan\n\u001b[1;32m     12\u001b[0m \u001b[38;5;28;01mfrom\u001b[39;00m \u001b[38;5;21;01mk_means_constrained\u001b[39;00m\u001b[38;5;21;01m.\u001b[39;00m\u001b[38;5;21;01msklearn_import\u001b[39;00m\u001b[38;5;21;01m.\u001b[39;00m\u001b[38;5;21;01mpreprocessing\u001b[39;00m\u001b[38;5;21;01m.\u001b[39;00m\u001b[38;5;21;01mdata\u001b[39;00m \u001b[38;5;28;01mimport\u001b[39;00m normalize\n\u001b[1;32m     14\u001b[0m \u001b[38;5;28;01mfrom\u001b[39;00m \u001b[38;5;21;01mk_means_constrained\u001b[39;00m\u001b[38;5;21;01m.\u001b[39;00m\u001b[38;5;21;01msklearn_import\u001b[39;00m\u001b[38;5;21;01m.\u001b[39;00m\u001b[38;5;21;01mutils\u001b[39;00m \u001b[38;5;28;01mimport\u001b[39;00m gen_batches, gen_even_slices\n",
      "File \u001b[0;32mk_means_constrained/sklearn_import/metrics/pairwise_fast.pyx:1\u001b[0m, in \u001b[0;36minit k_means_constrained.sklearn_import.metrics.pairwise_fast\u001b[0;34m()\u001b[0m\n",
      "\u001b[0;31mValueError\u001b[0m: numpy.ndarray size changed, may indicate binary incompatibility. Expected 96 from C header, got 88 from PyObject"
     ]
    }
   ],
   "source": [
    "from k_means_constrained import KMeansConstrained"
   ]
  },
  {
   "cell_type": "code",
   "execution_count": 4,
   "id": "95f13f2a",
   "metadata": {},
   "outputs": [],
   "source": [
    "TRAIN_FILE = 'data/train.csv'\n",
    "TEST_FILE = 'data/test.csv'\n",
    "REVEALED_TEST_FILE = 'data/revealed_test.csv'\n",
    "CENSUS_FILE = 'data/census_starter.csv'"
   ]
  },
  {
   "cell_type": "code",
   "execution_count": 5,
   "id": "1f44e8d6",
   "metadata": {},
   "outputs": [],
   "source": [
    "def load_data(file_path):\n",
    "    df = pd.read_csv(file_path)\n",
    "    return df\n",
    "\n",
    "def one_hot(df):\n",
    "    columnsToEncode = list(df.select_dtypes(include=['category','object']))\n",
    "    for each in columnsToEncode:\n",
    "        df=pd.concat([df,pd.get_dummies(df[each],prefix=each, drop_first=True)],axis=1).drop([each],axis=1)\n",
    "    return df\n",
    "\n",
    "def fill_na(df):\n",
    "    columnsToEncode = list(df.select_dtypes(include=['category','object']))\n",
    "    for each in columnsToEncode:\n",
    "        df[each] = df[each].fillna(df[each].mode().iloc[0])\n",
    "    df = df.fillna(df.median())\n",
    "    return df"
   ]
  },
  {
   "cell_type": "code",
   "execution_count": 233,
   "id": "ca29ca62",
   "metadata": {},
   "outputs": [],
   "source": [
    "train_raw = load_data(TRAIN_FILE)\n",
    "test_raw = load_data(REVEALED_TEST_FILE)\n",
    "census_raw = load_data(CENSUS_FILE)\n",
    "all_data = pd.concat([train_raw, test_raw])\n",
    "NUM_TRAIN = round(len(all_data)*0.8)\n",
    "train_raw = all_data[:NUM_TRAIN]\n",
    "test_raw = all_data[NUM_TRAIN:]"
   ]
  },
  {
   "cell_type": "code",
   "execution_count": 242,
   "id": "1ade9c96",
   "metadata": {},
   "outputs": [
    {
     "name": "stdout",
     "output_type": "stream",
     "text": [
      "[['Acadia Parish', 'Alcona County', 'Alcorn County', 'Alpena County', 'Appanoose County', 'Arenac County', 'Aroostook County', 'Ashe County', 'Assumption Parish', 'Audrain County', 'Avery County', 'Avoyelles Parish', 'Baraga County', 'Barren County', 'Bath County', 'Blackford County', 'Bollinger County', 'Bourbon County', 'Bronx County', 'Caddo Parish', 'Caldwell Parish', 'Calloway County', 'Carlisle County', 'Carter County', 'Catahoula Parish', 'Catron County', 'Chautauqua County', 'Chouteau County', 'Cibola County', 'Clare County', 'Copiah County', 'De Soto Parish', 'Deer Lodge County', 'Delaware County', 'Dent County', 'DoÃ±a Ana County', 'Dunklin County', 'Duplin County', 'Edmonson County', 'Elk County', 'Fleming County', 'Forrest County', 'Garden County', 'Gladwin County', 'Gogebic County', 'Golden Valley County', 'Graves County', 'Grayson County', 'Greenwood County', 'Grenada County', 'Hickman County', 'Hidalgo County', 'Hinds County', 'Hooker County', 'Houghton County', 'Howell County', 'Idaho County', 'Iosco County', 'Iron County', 'Itawamba County', 'Jackson Parish', 'Jefferson Davis Parish', 'Jewell County', 'Knox County', 'LaSalle Parish', 'Laurel County', 'Leake County', 'Lewis County', 'Mahnomen County', 'McDonald County', 'McDonough County', 'Menifee County', 'Metcalfe County', 'Montmorency County', 'Muhlenberg County', 'Musselshell County', 'Neshoba County', 'New Madrid County', 'Nicholas County', 'Nodaway County', 'Ogemaw County', 'Oktibbeha County', 'Ontonagon County', 'Orleans Parish', 'Oscoda County', 'Ouachita Parish', 'Panola County', 'Phelps County', 'Piscataquis County', 'Pointe Coupee Parish', 'Powell County', 'Prentiss County', 'Red River Parish', 'Reynolds County', 'Richland Parish', 'Robertson County', 'Rockcastle County', 'Roosevelt County', 'Roscommon County', 'Rowan County', 'Sabine Parish', 'Sampson County', 'Sanders County', 'Shoshone County', 'Smith County', 'Somerset County', 'St. Helena Parish', 'St. Landry Parish', 'St. Louis city', 'St. Mary Parish', 'Stoddard County', 'Swain County', 'Taos County', 'Texas County', 'Tippah County', 'Tishomingo County', 'Tunica County', 'Union Parish', 'Vernon County', 'Washington Parish', 'West Carroll Parish', 'Wheatland County', 'Winn Parish', 'Woodson County', 'Yalobusha County'], ['Albany County', 'Alfalfa County', 'Allegan County', 'Atlantic County', 'Auglaize County', 'Barry County', 'Belknap County', 'Benzie County', 'Berks County', 'Bottineau County', 'Bowman County', 'Buffalo County', 'Cabarrus County', 'Cape May County', 'Carlton County', 'Cavalier County', 'Cheshire County', 'Clermont County', 'Colfax County', 'Dare County', 'Davie County', 'Defiance County', 'Deschutes County', 'Dickey County', 'Divide County', 'Durham County', 'Eaton County', 'Eddy County', 'Eureka County', 'Fallon County', 'Fillmore County', 'Foster County', 'Goodhue County', 'Gosper County', 'Grafton County', 'Grand Traverse County', 'Hood River County', 'Iredell County', 'Johnston County', 'Kandiyohi County', 'Kearney County', 'LaMoure County', 'Lancaster County', 'Lapeer County', 'Lea County', 'Leelanau County', 'Lehigh County', 'Lewis and Clark County', 'Licking County', 'Livingston Parish', 'Macomb County', 'McClain County', 'McLeod County', 'Mecklenburg County', 'Meeker County', 'Midland County', 'Moore County', 'Nicollet County', 'Onondaga County', 'Ontario County', 'Otoe County', 'Pembina County', 'Perkins County', 'Pickaway County', 'Queens County', 'Ramsey County', 'Rankin County', 'Ransom County', 'Ray County', 'Rock County', 'Rogers County', 'Roseau County', 'Sagadahoc County', 'Salem County', 'Sandoval County', 'Santa Fe County', 'Sargent County', 'Saunders County', 'Schenectady County', 'Sibley County', 'Slope County', 'Stearns County', 'Steele County', 'Stillwater County', 'Storey County', 'Tioga County', 'Tompkins County', 'Traill County', 'Ulster County', 'Wabasha County', 'Wagoner County', 'Ward County', 'Washoe County', 'West Baton Rouge Parish', 'White Pine County', 'Wood County', 'Worcester County', 'Yamhill County', 'Yellowstone County'], ['Calvert County', 'Douglas County', 'Fairfax city', 'Forsyth County', 'Hunterdon County', 'Los Alamos County', 'Marin County', 'Nantucket County', 'San Francisco County', 'San Mateo County', 'Santa Clara County'], ['Alamosa County', 'Alexander County', 'Apache County', 'Appling County', 'Ashley County', 'Atkinson County', 'Baca County', 'Bacon County', 'Barbour County', 'Baxter County', 'Bent County', 'Berrien County', 'Bradley County', 'Brantley County', 'Brooks County', 'Bullock County', 'Butler County', 'Camas County', 'Candler County', 'Chambers County', 'Chattooga County', 'Cherokee County', 'Chicot County', 'Choctaw County', 'Clark County', 'Clarke County', 'Clay County', 'Colquitt County', 'Columbia County', 'Conecuh County', 'Conejos County', 'Cook County', 'Coosa County', 'Costilla County', 'Covington County', 'Crenshaw County', 'Crisp County', 'Crittenden County', 'Crowley County', 'Dallas County', 'DeKalb County', 'DeSoto County', 'Decatur County', 'Desha County', 'Dixie County', 'Dodge County', 'Dooly County', 'Dougherty County', 'Drew County', 'Echols County', 'Emanuel County', 'Escambia County', 'Fayette County', 'Franklin County', 'Fulton County', 'Gadsden County', 'Geneva County', 'Glades County', 'Hale County', 'Hamilton County', 'Hardee County', 'Hempstead County', 'Hendry County', 'Highlands County', 'Holmes County', 'Howard County', 'Huerfano County', 'Irwin County', 'Izard County', 'Jackson County', 'Jeff Davis County', 'Johnson County', 'Kiowa County', 'La Paz County', 'Lafayette County', 'Lamar County', 'Lanier County', 'Laurens County', 'Lemhi County', 'Levy County', 'Liberty County', 'Logan County', 'Lowndes County', 'Macon County', 'Marengo County', 'Marion County', 'Meriwether County', 'Mississippi County', 'Mitchell County', 'Monroe County', 'Navajo County', 'Nevada County', 'Newton County', 'Otero County', 'Ouachita County', 'Pickens County', 'Pike County', 'Poinsett County', 'Polk County', 'Prowers County', 'Putnam County', 'Rio Grande County', 'Russell County', 'Saguache County', 'Santa Cruz County', 'Scott County', 'Screven County', 'Searcy County', 'Sharp County', 'St. Francis County', 'Stone County', 'Talbot County', 'Taliaferro County', 'Talladega County', 'Tattnall County', 'Taylor County', 'Terrell County', 'Toombs County', 'Treutlen County', 'Trinity County', 'Turner County', 'Twiggs County', 'Upson County', 'Van Buren County', 'Ware County', 'Warren County', 'Washington County', 'Webster County', 'Wilcox County', 'Wilkes County', 'Wilkinson County', 'Winston County', 'Woodruff County', 'Yukon-Koyukuk Census Area'], ['Alachua County', 'Arkansas County', 'Banks County', 'Benewah County', 'Bibb County', 'Bleckley County', 'Blount County', 'Boone County', 'Boundary County', 'Bradford County', 'Bulloch County', 'Burke County', 'Butts County', 'Calhoun County', 'Carroll County', 'Charlton County', 'Chattahoochee County', 'Chilton County', 'Citrus County', 'Clayton County', 'Clearwater County', 'Cleburne County', 'Cleveland County', 'Cochise County', 'Colbert County', 'Coles County', 'Conway County', 'Craighead County', 'Crawford County', 'Cross County', 'Cullman County', 'Dade County', 'Dale County', 'Del Norte County', 'Delta County', 'Dolores County', 'Etowah County', 'Evans County', 'Fannin County', 'Floyd County', 'Fremont County', 'Gallatin County', 'Garland County', 'Gila County', 'Gilchrist County', 'Glascock County', 'Glenn County', 'Gordon County', 'Grady County', 'Gulf County', 'Haralson County', 'Hart County', 'Heard County', 'Henry County', 'Hernando County', 'Hinsdale County', 'Hot Spring County', 'Houston County', 'Humboldt County', 'Imperial County', 'Independence County', 'Jasper County', 'Kit Carson County', 'Lake County', 'Lake and Peninsula Borough', 'Las Animas County', 'Lauderdale County', 'Lawrence County', 'Lee County', 'Lincoln County', 'Little River County', 'Mariposa County', 'Marshall County', 'McDuffie County', 'McIntosh County', 'Mendocino County', 'Miller County', 'Mobile County', 'Modoc County', 'Mohave County', 'Montezuma County', 'Montgomery County', 'Montrose County', 'Morgan County', 'Murray County', 'Muscogee County', 'Oglethorpe County', 'Okeechobee County', 'Owyhee County', 'Peach County', 'Pierce County', 'Pope County', 'Prairie County', 'Pueblo County', 'Pulaski County', 'Rabun County', 'Randolph County', 'Richmond County', 'Schley County', 'Sebastian County', 'Sedgwick County', 'Sevier County', 'Sierra County', 'Siskiyou County', 'Spalding County', 'Stephens County', 'Suwannee County', 'Tallapoosa County', 'Tehama County', 'Thomas County', 'Tift County', 'Towns County', 'Troup County', 'Tulare County', 'Union County', 'Volusia County', 'Walker County', 'Wayne County', 'White County', 'Whitfield County', 'Worth County', 'Yavapai County', 'Yell County', 'Yuma County'], ['Ada County', 'Adams County', 'Aleutians East Borough', 'Alpine County', 'Baltimore County', 'Barnstable County', 'Benton County', 'Bremer County', 'Bristol County', 'Bryan County', 'Cecil County', 'Cedar County', 'Clear Creek County', 'Clinton County', 'Collier County', 'Coweta County', 'Dawson County', 'Dearborn County', 'Denver County', 'Dukes County', 'Effingham County', 'El Paso County', 'Garfield County', 'Grand County', 'Grundy County', 'Gwinnett County', 'Hampshire County', 'Harris County', 'Hartford County', 'Isanti County', 'Kalawao County', 'Kenai Peninsula Borough', 'Ketchikan Gateway Borough', 'La Plata County', 'Larimer County', 'Le Sueur County', 'Leavenworth County', 'Los Angeles County', 'Matanuska-Susitna Borough', 'McLean County', 'Menard County', 'Mills County', 'Monterey County', 'Nassau County', 'New Castle County', 'New Haven County', 'New London County', 'Park County', 'Paulding County', 'Petersburg Borough', 'Piatt County', 'Plymouth County', 'Porter County', 'Pottawatomie County', 'Riverside County', 'Routt County', 'Sacramento County', 'San Luis Obispo County', 'Santa Barbara County', 'Santa Rosa County', 'Seminole County', 'Sioux County', 'Sitka City and Borough', 'Skagway Municipality', 'Southeast Fairbanks Census Area', 'St. Charles Parish', 'St. Tammany Parish', 'Suffolk County', 'Teton County', 'Warrick County', 'Washtenaw County', 'Weld County', 'Woodford County', 'Yolo County', 'York County'], ['Andrew County', 'Antrim County', 'Banner County', 'Barnes County', 'Becker County', 'Berkshire County', 'Bernalillo County', 'Big Stone County', 'Blue Earth County', 'Box Butte County', 'Broadwater County', 'Broome County', 'Brunswick County', 'Buncombe County', 'Burt County', 'Callaway County', 'Cape Girardeau County', 'Carbon County', 'Caroline County', 'Carson City', 'Carteret County', 'Catawba County', 'Cayuga County', 'Charlevoix County', 'Chemung County', 'Chenango County', 'Cherry County', 'Churchill County', 'Cole County', 'Cortland County', 'Cottonwood County', 'Craven County', 'Crow Wing County', 'Cuming County', 'Daniels County', 'Dixon County', 'Erie County', 'Faribault County', 'Flathead County', 'Freeborn County', 'Frontier County', 'Gage County', 'Gasconade County', 'Grand Forks County', 'Granville County', 'Griggs County', 'Guilford County', 'Hampden County', 'Harnett County', 'Herkimer County', 'Hettinger County', 'Hubbard County', 'Ingham County', 'Ionia County', 'Itasca County', 'Kalamazoo County', 'Kanabec County', 'Keya Paha County', 'Kidder County', 'Kittson County', 'Lac qui Parle County', 'Lenawee County', 'Lorain County', 'Major County', 'Marquette County', 'McCone County', 'Merrick County', 'Mille Lacs County', 'Missoula County', 'Moniteau County', 'Morrison County', 'Morrow County', 'Mower County', 'New Hanover County', 'Niagara County', 'Nobles County', 'Norman County', 'Orleans County', 'Oswego County', 'Otsego County', 'Otter Tail County', 'Pender County', 'Pennington County', 'Pershing County', 'Pine County', 'Pipestone County', 'Portage County', 'Powder River County', 'Preble County', 'Ralls County', 'Ravalli County', 'Red Lake County', 'Redwood County', 'Renville County', 'Rosebud County', 'Schoharie County', 'Seneca County', 'Shiawassee County', 'St. Louis County', 'Ste. Genevieve County', 'Stutsman County', 'Sweet Grass County', 'Thayer County', 'Tulsa County', 'Van Wert County', 'Walsh County', 'Waseca County', 'Watonwan County', 'Wicomico County', 'Wilkin County', 'Winona County', 'Woodward County', 'Wyandot County', 'Wyoming County', 'Yates County', 'Yellow Medicine County'], ['Albemarle County', 'Brazoria County', 'Bucks County', 'Burlington County', 'Clackamas County', 'Comal County', 'Denton County', 'Dutchess County', 'Elko County', 'Geauga County', 'Gloucester County', 'Goochland County', 'Hanover County', 'James City County', 'King George County', 'Lander County', 'Manassas Park city', 'Manassas city', 'New Kent County', 'New York County', 'Newport County', 'Ozaukee County', 'Parker County', 'Powhatan County', 'Saratoga County', 'Sarpy County', 'Sherburne County', 'Snohomish County', 'Spotsylvania County', 'St. Charles County', 'St. Croix County', 'Sublette County', 'Wake County', 'Wasatch County', 'Waukesha County', 'Williams County'], ['Amite County', 'Attala County', 'Bell County', 'Ben Hill County', 'Bienville Parish', 'Bolivar County', 'Breathitt County', 'Casey County', 'Claiborne County', 'Claiborne Parish', 'Clinch County', 'Coahoma County', 'Concordia Parish', 'De Baca County', 'Early County', 'East Carroll Parish', 'Elliott County', 'Estill County', 'Evangeline Parish', 'Franklin Parish', 'Glacier County', 'Green County', 'Greene County', 'Guadalupe County', 'Hancock County', 'Harlan County', 'Hickory County', 'Humphreys County', 'Issaquena County', 'Jefferson Davis County', 'Jenkins County', 'Kemper County', 'Knott County', 'Leflore County', 'Leslie County', 'Letcher County', 'Lincoln Parish', 'Luna County', 'Madison Parish', 'Magoffin County', 'McCreary County', 'Mora County', 'Morehouse Parish', 'Natchitoches Parish', 'Noxubee County', 'Oregon County', 'Owsley County', 'Ozark County', 'Pemiscot County', 'Perry County', 'Phillips County', 'Quay County', 'Quitman County', 'Shannon County', 'Sharkey County', 'Stewart County', 'Sumter County', 'Sunflower County', 'Tallahatchie County', 'Telfair County', 'Tensas Parish', 'Walthall County', 'Webster Parish', 'Wheeler County', 'Wolfe County', 'Yazoo County'], ['Amador County', 'Autauga County', 'Baker County', 'Baldwin County', 'Barrow County', 'Bartholomew County', 'Bartow County', 'Blaine County', 'Bonneville County', 'Broward County', 'Brown County', 'Buchanan County', 'Bullitt County', 'Calaveras County', 'Campbell County', 'Caribou County', 'Cheyenne County', 'Chickasaw County', 'Coconino County', 'Coffey County', 'Colusa County', 'Davis County', 'Dickinson County', 'Dillingham Census Area', 'Dubois County', 'Dubuque County', 'Elmore County', 'Gray County', 'Greenlee County', 'Gunnison County', 'Guthrie County', 'Haines Borough', 'Hall County', 'Hawaii County', 'Hillsborough County', 'Hodgeman County', 'Hoonah-Angoon Census Area', 'Iowa County', 'Jersey County', 'Jessamine County', 'Kankakee County', 'Kent County', 'Kenton County', 'Kosciusko County', 'LaGrange County', 'Limestone County', 'Linn County', 'Lonoke County', 'Louisa County', 'Lyon County', 'Madera County', 'Madison County', 'Manatee County', 'Maricopa County', 'Martin County', 'McPherson County', 'Mono County', 'Moultrie County', 'Muscatine County', 'Nelson County', 'Nemaha County', 'Nome Census Area', 'Northwest Arctic Borough', 'Ogle County', 'Ohio County', 'Okaloosa County', 'Ouray County', 'Palm Beach County', 'Pinal County', 'Plaquemines Parish', 'Posey County', 'Pottawattamie County', 'Rockdale County', 'Saline County', 'San Bernardino County', 'San Joaquin County', 'San Miguel County', 'Sangamon County', 'Sarasota County', 'Sheridan County', 'St. Clair County', 'Stanislaus County', 'Sussex County', 'Sutter County', 'Tazewell County', 'Teller County', 'Tipton County', 'Trego County', 'Tuolumne County', 'Valley County', 'Wabaunsee County', 'Wakulla County', 'Walton County', 'Whitley County', 'Windham County', 'Winneshiek County', 'Yakutat City and Borough'], ['Aitkin County', 'Alger County', 'Allegany County', 'Allen Parish', 'Anderson County', 'Antelope County', 'Arthur County', 'Atchison County', 'Audubon County', 'Ballard County', 'Baltimore city', 'Barber County', 'Barton County', 'Bates County', 'Beauregard Parish', 'Beaverhead County', 'Beltrami County', 'Big Horn County', 'Bonner County', 'Boyd County', 'Boyle County', 'Bracken County', 'Branch County', 'Breckinridge County', 'Calcasieu Parish', 'Caldwell County', 'Cascade County', 'Cattaraugus County', 'Chariton County', 'Chase County', 'Cheboygan County', 'Chippewa County', 'Cloud County', 'Cooper County', 'Coos County', 'Cowley County', 'Dawes County', 'Des Moines County', 'Deuel County', 'Doniphan County', 'Dorchester County', 'Dundy County', 'East Feliciana Parish', 'Edgar County', 'Fergus County', 'Furnas County', 'Garrett County', 'Geary County', 'Gem County', 'Genesee County', 'Gentry County', 'George County', 'Gooding County', 'Gove County', 'Granite County', 'Grant Parish', 'Gratiot County', 'Greenup County', 'Hardin County', 'Harper County', 'Hayes County', 'Hill County', 'Hillsdale County', 'Hitchcock County', 'Holt County', 'Hopkins County', 'Huron County', 'Iberia Parish', 'Iberville Parish', 'Isabella County', 'Jay County', 'Judith Basin County', 'Kalkaska County', 'Keith County', 'Keweenaw County', 'Kimball County', 'Koochiching County', 'Labette County', 'Laclede County', 'Lake of the Woods County', 'Lane County', 'Larue County', 'Latah County', 'Loup County', 'Luce County', 'Mackinac County', 'Manistee County', 'Maries County', 'Mason County', 'Massac County', 'McCracken County', 'Meagher County', 'Mecosta County', 'Menominee County', 'Miami County', 'Missaukee County', 'Monona County', 'Montcalm County', 'Morrill County', 'Morton County', 'Muskegon County', 'Nance County', 'Neosho County', 'Newaygo County', 'Norton County', 'Nuckolls County', 'Nye County', 'Oceana County', 'Osborne County', 'Owen County', 'Oxford County', 'Page County', 'Pawnee County', 'Pearl River County', 'Penobscot County', 'Petroleum County', 'Pettis County', 'Pondera County', 'Pontotoc County', 'Power County', 'Presque Isle County', 'Rapides Parish', 'Red Willow County', 'Reno County', 'Republic County', 'Rice County', 'Richardson County', 'Riley County', 'Rooks County', 'Saginaw County', 'Sanilac County', 'Schoolcraft County', 'Scotland County', 'Scotts Bluff County', 'Seward County', 'Silver Bow County', 'Simpson County', 'St. Bernard Parish', 'St. Francois County', 'St. Martin Parish', 'Stafford County', 'Starke County', 'Stephenson County', 'Sullivan County', 'Swift County', 'Switzerland County', 'Taney County', 'Tangipahoa Parish', 'Tate County', 'Terrebonne Parish', 'Thurston County', 'Todd County', 'Toole County', 'Traverse County', 'Treasure County', 'Trigg County', 'Tuscola County', 'Valencia County', 'Vanderburgh County', 'Vermilion County', 'Vermilion Parish', 'Vermillion County', 'Vernon Parish', 'Vigo County', 'Wabash County', 'Wadena County', 'Wapello County', 'Wexford County', 'Wibaux County', 'Wilson County', 'Wyandotte County'], ['Adair County', 'Allamakee County', 'Allen County', 'Androscoggin County', 'Archuleta County', 'Bannock County', 'Bay County', 'Bear Lake County', 'Bethel Census Area', 'Bingham County', 'Black Hawk County', 'Boise County', 'Bond County', 'Bossier Parish', 'Brevard County', 'Buena Vista County', 'Bureau County', 'Butte County', 'Camden County', 'Cameron Parish', 'Canyon County', 'Cass County', 'Cassia County', 'Catoosa County', 'Cerro Gordo County', 'Chaffee County', 'Champaign County', 'Charlotte County', 'Chatham County', 'Christian County', 'Coffee County', 'Comanche County', 'Cumberland County', 'Custer County', 'Daviess County', 'De Witt County', 'Duval County', 'East Baton Rouge Parish', 'Edwards County', 'Elkhart County', 'Ellis County', 'Ellsworth County', 'Emmet County', 'Faulkner County', 'Finney County', 'Flagler County', 'Ford County', 'Fountain County', 'Fresno County', 'Garrard County', 'Gibson County', 'Gilmer County', 'Glynn County', 'Graham County', 'Grant County', 'Greeley County', 'Habersham County', 'Harrison County', 'Harvey County', 'Haskell County', 'Henderson County', 'Huntington County', 'Ida County', 'Indian River County', 'Inyo County', 'Iroquois County', 'Jefferson County', 'Jefferson Parish', 'Jennings County', 'Jerome County', 'Jo Daviess County', 'Jones County', 'Kearny County', 'Kennebec County', 'Keokuk County', 'Kern County', 'Kingman County', 'Kings County', 'Kootenai County', 'Kossuth County', 'LaPorte County', 'LaSalle County', 'Lafayette Parish', 'Lafourche Parish', 'Lassen County', 'Leon County', 'Livingston County', 'Long County', 'Lucas County', 'Lumpkin County', 'Macoupin County', 'Mahaska County', 'Meade County', 'Merced County', 'Mercer County', 'Mesa County', 'Miami-Dade County', 'Mineral County', 'Minidoka County', 'Moffat County', 'Morris County', 'Ness County', 'Nez Perce County', 'Noble County', \"O'Brien County\", 'Oneida County', 'Osage County', 'Osceola County', 'Ottawa County', 'Palo Alto County', 'Parke County', 'Pasco County', 'Payette County', 'Pendleton County', 'Peoria County', 'Pima County', 'Pinellas County', 'Plumas County', 'Pocahontas County', 'Poweshiek County', 'Pratt County', 'Prince of Wales-Hyder Census Area', 'Rawlins County', 'Richland County', 'Ringgold County', 'Rio Blanco County', 'Ripley County', 'Rock Island County', 'Rush County', 'Sac County', 'San Juan County', 'Schuyler County', 'Shasta County', 'Shawnee County', 'Sherman County', 'Spencer County', 'St. James Parish', 'St. John the Baptist Parish', 'St. Joseph County', 'St. Lucie County', 'Stanton County', 'Stark County', 'Steuben County', 'Stevens County', 'Story County', 'Sumner County', 'Tama County', 'Tippecanoe County', 'Trimble County', 'Tuscaloosa County', 'Twin Falls County', 'Waldo County', 'Wallace County', 'Wells County', 'West Feliciana Parish', 'Whiteside County', 'Wichita County', 'Williamson County', 'Winnebago County', 'Woodbury County', 'Wrangell City and Borough', 'Wright County', 'Yuba County'], ['Abbeville County', 'Alleghany County', 'Allendale County', 'Anson County', 'Athens County', 'Atoka County', 'Bamberg County', 'Barnwell County', 'Baylor County', 'Bertie County', 'Bladen County', 'Briscoe County', 'Bristol city', 'Buena Vista city', 'Cabell County', 'Clarendon County', 'Cochran County', 'Cocke County', 'Colleton County', 'Columbus County', 'Corson County', 'Cottle County', 'Crosby County', 'Culberson County', 'Danville city', 'Darlington County', 'Dickenson County', 'Dillon County', 'Dimmit County', 'Eastland County', 'Edgecombe County', 'Emporia city', 'Esmeralda County', 'Falls County', 'Fentress County', 'Forest County', 'Greenbrier County', 'Halifax County', 'Hampton County', 'Hardeman County', 'Harding County', 'Hertford County', 'Hudspeth County', 'Hughes County', 'Jim Hogg County', 'Kenedy County', 'Kinney County', 'Le Flore County', 'Lenoir County', 'Marlboro County', 'Maverick County', 'McCurtain County', 'McKinley County', 'McNairy County', 'Mellette County', 'Mingo County', 'Northampton County', 'Norton city', 'Obion County', 'Okfuskee County', 'Orangeburg County', 'Overton County', 'Petersburg city', 'Piute County', 'Presidio County', 'Pushmataha County', 'Radford city', 'Real County', 'Red River County', 'Rio Arriba County', 'Robeson County', 'Sabine County', 'San Augustine County', 'Scioto County', 'Sequoyah County', 'Socorro County', 'Starr County', 'Summers County', 'Swisher County', 'Tillman County', 'Torrance County', 'Tyrrell County', 'Vance County', 'Weakley County', 'Willacy County', 'Williamsburg County', 'Zapata County', 'Zavala County', 'Ziebach County'], ['Accomack County', 'Alamance County', 'Aransas County', 'Ashtabula County', 'Beaufort County', 'Bee County', 'Bennett County', 'Benson County', 'Bledsoe County', 'Braxton County', 'Brazos County', 'Brewster County', 'Buckingham County', 'Caddo County', 'Callahan County', 'Cambria County', 'Cameron County', 'Camp County', 'Castro County', 'Caswell County', 'Chaves County', 'Chesterfield County', 'Childress County', 'Chowan County', 'Cimarron County', 'Clarion County', 'Clearfield County', 'Coal County', 'Coke County', 'Coleman County', 'Collingsworth County', 'Columbiana County', 'Concho County', 'Coshocton County', 'Craig County', 'Crockett County', 'Curry County', 'Davidson County', 'Day County', 'Dickens County', 'Donley County', 'Dyer County', 'Ferry County', 'Florence County', 'Foard County', 'Franklin city', 'Frio County', 'Gallia County', 'Garvin County', 'Gilliam County', 'Grainger County', 'Greensville County', 'Greer County', 'Gregory County', 'Guernsey County', 'Haakon County', 'Hamblen County', 'Hansford County', 'Hardy County', 'Harmon County', 'Harney County', 'Harrisonburg city', 'Hawkins County', 'Highland County', 'Hockley County', 'Hoke County', 'Hopewell city', 'Hyde County', 'Indiana County', 'Jim Wells County', 'Josephine County', 'Kanawha County', 'Kay County', 'Kimble County', 'Klamath County', 'Kleberg County', 'Lamb County', 'Latimer County', 'Lexington city', 'Lunenburg County', 'Lynchburg city', 'Lynn County', 'Mahoning County', 'Malheur County', 'Matagorda County', 'McCormick County', 'McCulloch County', 'McDowell County', 'McKean County', 'McMinn County', 'Meigs County', 'Milam County', 'Motley County', 'Muskingum County', 'Muskogee County', 'Nacogdoches County', 'Navarro County', 'Newberry County', 'Niobrara County', 'Nolan County', 'Northumberland County', 'Nottoway County', 'Nowata County', 'Okanogan County', 'Okmulgee County', 'Pacific County', 'Pamlico County', 'Patrick County', 'Payne County', 'Perquimans County', 'Philadelphia County', 'Pickett County', 'Pitt County', 'Pittsburg County', 'Pittsylvania County', 'Potter County', 'Price County', 'Prince Edward County', 'Raleigh County', 'Rhea County', 'Richmond city', 'Ritchie County', 'Roanoke city', 'Rolette County', 'Runnels County', 'Rutherford County', 'Saluda County', 'San Jacinto County', 'San Saba County', 'Sawyer County', 'Shackelford County', 'Smyth County', 'Stokes County', 'Surry County', 'Terry County', 'Throckmorton County', 'Trumbull County', 'Tucker County', 'Tyler County', 'Unicoi County', 'Uvalde County', 'Val Verde County', 'Vilas County', 'Vinton County', 'Watauga County', 'Waynesboro city', 'Webb County', 'Wetzel County', 'Whitman County', 'Wilbarger County', 'Wirt County', 'Yadkin County', 'Yancey County'], ['Aleutians West Census Area', 'Anchorage Municipality', 'Anoka County', 'Arapahoe County', 'Ascension Parish', 'Boulder County', 'Bristol Bay Borough', 'Chisago County', 'Cobb County', 'Dakota County', 'Denali Borough', 'District of Columbia', 'Eagle County', 'El Dorado County', 'Essex County', 'Fairbanks North Star Borough', 'Gilpin County', 'Hendricks County', 'Hennepin County', 'Honolulu County', 'Juneau City and Borough', 'Kane County', 'Kauai County', 'Kodiak Island Borough', 'Litchfield County', 'Maui County', 'McHenry County', 'Middlesex County', 'Napa County', 'North Slope Borough', 'Oakland County', 'Oconee County', 'Olmsted County', 'Orange County', 'Pitkin County', 'Placer County', 'Platte County', \"Prince George's County\", 'San Benito County', 'San Diego County', 'Shelby County', 'Solano County', 'Sonoma County', 'St. Johns County', 'Summit County', 'Tolland County', 'Ventura County', 'Will County'], ['Allegheny County', 'Amelia County', 'Archer County', 'Atascosa County', 'Augusta County', 'Aurora County', 'Austin County', 'Bandera County', 'Berkeley County', 'Bexar County', 'Blanco County', 'Box Elder County', 'Burleson County', 'Burnet County', 'Cache County', 'Centre County', 'Charles City County', 'Charleston County', 'Charlottesville city', 'Cheatham County', 'Chelan County', 'Colonial Heights city', 'Cooke County', 'Crane County', 'Dauphin County', 'Dinwiddie County', 'Door County', 'Duchesne County', 'Eau Claire County', 'Ector County', 'Fond du Lac County', 'Fredericksburg city', 'Gaines County', 'Gillespie County', 'Greenville County', 'Hanson County', 'Hartley County', 'Hemphill County', 'Hood County', 'Hutchinson County', 'Juab County', 'Kenosha County', 'Kewaunee County', 'King and Queen County', 'Kingfisher County', 'Kingsbury County', 'Kittitas County', 'La Crosse County', 'Lamoille County', 'Lampasas County', 'Laramie County', 'Lebanon County', 'Lexington County', 'Lipscomb County', 'Loudon County', 'Marathon County', 'Maury County', 'McCook County', 'McMullen County', 'Millard County', 'Minnehaha County', 'Montour County', 'Moody County', 'Natrona County', 'Oconto County', 'Outagamie County', 'Providence County', 'Racine County', 'Reagan County', 'Rich County', 'Salem city', 'Sauk County', 'Sheboygan County', 'Skamania County', 'Snyder County', 'Somervell County', 'Southampton County', 'Spink County', 'Spokane County', 'Sully County', 'Sutton County', 'Trempealeau County', 'Uinta County', 'Uintah County', 'Victoria County', 'Walla Walla County', 'Waller County', 'Waupaca County', 'Westmoreland County', 'Weston County', 'Whatcom County', 'Williamsburg city', 'Winchester city', 'Windsor County', 'Winkler County', 'Wise County', 'Yankton County'], ['Aiken County', 'Amherst County', 'Angelina County', 'Appomattox County', 'Armstrong County', 'Ashland County', 'Asotin County', 'Bailey County', 'Barron County', 'Bayfield County', 'Beadle County', 'Beaver County', 'Beckham County', 'Bedford County', 'Belmont County', 'Bennington County', 'Blair County', 'Bland County', 'Bon Homme County', 'Bosque County', 'Bowie County', 'Brooke County', 'Brookings County', 'Brule County', 'Burnett County', 'Caledonia County', 'Cannon County', 'Charles Mix County', 'Clallam County', 'Clatsop County', 'Codington County', 'Colorado County', 'Coryell County', 'Cotton County', 'Cowlitz County', 'Creek County', 'Crook County', 'Cuyahoga County', 'Dallam County', 'Darke County', 'Davison County', 'DeWitt County', 'Deaf Smith County', 'Dewey County', 'Dickson County', 'Doddridge County', 'Edgefield County', 'Emery County', 'Emmons County', 'Erath County', 'Fall River County', 'Faulk County', 'Fisher County', 'Freestone County', 'Garza County', 'Gaston County', 'Gates County', 'Georgetown County', 'Giles County', 'Goliad County', 'Gonzales County', 'Goshen County', 'Grays Harbor County', 'Green Lake County', 'Gregg County', 'Grimes County', 'Hampton city', 'Hand County', 'Haywood County', 'Hocking County', 'Horry County', 'Hot Springs County', 'Hunt County', 'Huntingdon County', 'Irion County', 'Jack County', 'Jerauld County', 'Juneau County', 'Juniata County', 'Karnes County', 'Kerr County', 'Kershaw County', 'King County', 'Klickitat County', 'La Salle County', 'Lackawanna County', 'Langlade County', 'Lavaca County', 'Live Oak County', 'Llano County', 'Love County', 'Loving County', 'Lubbock County', 'Luzerne County', 'Lycoming County', 'Lyman County', 'Manitowoc County', 'Marinette County', 'Mayes County', 'McLennan County', 'Mifflin County', 'Milwaukee County', 'Miner County', 'Monongalia County', 'Montague County', 'Nash County', 'Newport News city', 'Norfolk city', 'Nueces County', 'Ochiltree County', 'Oklahoma County', 'Onslow County', 'Palo Pinto County', 'Parmer County', 'Pasquotank County', 'Pecos County', 'Pend Oreille County', 'Pepin County', 'Person County', 'Pleasants County', 'Portsmouth city', 'Preston County', 'Rains County', 'Reeves County', 'Refugio County', 'Roane County', 'Roberts County', 'Rockbridge County', 'Roger Mills County', 'Ross County', 'Rusk County', 'Rutland County', 'San Patricio County', 'Sanborn County', 'Sandusky County', 'Sanpete County', 'Schleicher County', 'Schuylkill County', 'Scurry County', 'Sequatchie County', 'Shawano County', 'Shenandoah County', 'Spartanburg County', 'St. Lawrence County', 'Stanly County', 'Staunton city', 'Sterling County', 'Stonewall County', 'Susquehanna County', 'Tillamook County', 'Titus County', 'Tom Green County', 'Towner County', 'Transylvania County', 'Tripp County', 'Trousdale County', 'Tuscarawas County', 'Umatilla County', 'Upshur County', 'Upton County', 'Van Zandt County', 'Venango County', 'Wahkiakum County', 'Wallowa County', 'Walworth County', 'Wasco County', 'Washakie County', 'Washburn County', 'Washita County', 'Waushara County', 'Wharton County', 'Woods County', 'Wythe County', 'Yakima County', 'Young County'], ['Arlington County', 'Fairfax County', 'Falls Church city', 'Loudoun County'], ['Addison County', 'Andrews County', 'Bastrop County', 'Billings County', 'Borden County', 'Botetourt County', 'Burleigh County', 'Calumet County', 'Canadian County', 'Carson County', 'Chesapeake city', 'Chittenden County', 'Converse County', 'Culpeper County', 'Currituck County', 'Daggett County', 'Dane County', 'Dunn County', 'Edmunds County', 'Fluvanna County', 'Galveston County', 'Glasscock County', 'Grand Isle County', 'Hamlin County', 'Hays County', 'Henrico County', 'Hudson County', 'Island County', 'Isle of Wight County', 'Kaufman County', 'King William County', 'Kitsap County', 'Mathews County', 'McKenzie County', 'Medina County', 'Merrimack County', 'Mountrail County', 'Multnomah County', 'Ocean County', 'Oliver County', 'Passaic County', 'Prince George County', 'Randall County', 'Rappahannock County', 'Rensselaer County', 'Roanoke County', 'Salt Lake County', 'Skagit County', 'Stanley County', 'Strafford County', 'Suffolk city', 'Sweetwater County', 'Tarrant County', 'Tooele County', 'Travis County', 'Utah County', 'Virginia Beach city', 'Weber County', 'Yoakum County'], ['Alameda County', 'Alexandria city', 'Anne Arundel County', 'Bergen County', 'Broomfield County', 'Carver County', 'Charles County', 'Chester County', 'Collin County', 'Contra Costa County', 'DuPage County', 'Elbert County', 'Fairfield County', 'Fauquier County', 'Fort Bend County', 'Frederick County', 'Harford County', 'Kendall County', 'Monmouth County', 'Norfolk County', 'Oldham County', 'Poquoson city', 'Prince William County', \"Queen Anne's County\", 'Rockingham County', 'Rockland County', 'Rockwall County', \"St. Mary's County\", 'Westchester County']]\n"
     ]
    }
   ],
   "source": [
    "census_raw = pd.merge(left = all_data, right = census_raw, how = 'left')\n",
    "census_raw = census_raw.drop(['row_id', 'first_day_of_month', 'microbusiness_density', 'active', 'state'], axis = 1).groupby(['county']).first()\n",
    "census_raw = census_raw.fillna(0)\n",
    "from sklearn.cluster import KMeans\n",
    "N_CLUSTERS = 20\n",
    "kmeans = KMeans(n_clusters=N_CLUSTERS).fit_predict(census_raw)\n",
    "clusters = []\n",
    "for cluster in range(N_CLUSTERS):\n",
    "    clusters += [list(census_raw.index[np.where(kmeans == cluster)])]\n",
    "print(clusters)"
   ]
  },
  {
   "cell_type": "code",
   "execution_count": 217,
   "id": "7527174e",
   "metadata": {},
   "outputs": [
    {
     "name": "stdout",
     "output_type": "stream",
     "text": [
      "[['Acadia Parish', 'Alamosa County', 'Alcona County', 'Alcorn County', 'Alexander County', 'Alleghany County', 'Allen Parish', 'Allendale County', 'Alpena County', 'Amite County', 'Apache County', 'Appanoose County', 'Appling County', 'Arenac County', 'Aroostook County', 'Ashley County', 'Assumption Parish', 'Atkinson County', 'Attala County', 'Avoyelles Parish', 'Baca County', 'Bacon County', 'Barbour County', 'Barren County', 'Bath County', 'Baxter County', 'Bell County', 'Ben Hill County', 'Bent County', 'Berrien County', 'Bertie County', 'Bienville Parish', 'Blackford County', 'Bladen County', 'Bolivar County', 'Boone County', 'Boundary County', 'Bourbon County', 'Bradley County', 'Brantley County', 'Breathitt County', 'Brooks County', 'Bullock County', 'Burke County', 'Butler County', 'Caddo Parish', 'Caldwell Parish', 'Calloway County', 'Camas County', 'Candler County', 'Carlisle County', 'Carter County', 'Casey County', 'Catahoula Parish', 'Chambers County', 'Charlton County', 'Chattooga County', 'Chautauqua County', 'Cherokee County', 'Chicot County', 'Choctaw County', 'Citrus County', 'Claiborne County', 'Claiborne Parish', 'Clare County', 'Clark County', 'Clarke County', 'Clay County', 'Clearwater County', 'Cleburne County', 'Clinch County', 'Coahoma County', 'Colquitt County', 'Columbia County', 'Columbus County', 'Concordia Parish', 'Conecuh County', 'Conejos County', 'Conway County', 'Cook County', 'Coosa County', 'Copiah County', 'Costilla County', 'Covington County', 'Crenshaw County', 'Crisp County', 'Crittenden County', 'Cross County', 'Crowley County', 'Dade County', 'Dallas County', 'De Baca County', 'De Soto Parish', 'DeKalb County', 'DeSoto County', 'Decatur County', 'Delaware County', 'Dent County', 'Desha County', 'Dillon County', 'Dimmit County', 'Dixie County', 'Dodge County', 'Dooly County', 'Dougherty County', 'Drew County', 'Dunklin County', 'Early County', 'East Carroll Parish', 'Echols County', 'Edgecombe County', 'Edmonson County', 'Elk County', 'Elliott County', 'Emanuel County', 'Escambia County', 'Esmeralda County', 'Estill County', 'Etowah County', 'Evangeline Parish', 'Evans County', 'Fayette County', 'Fleming County', 'Forrest County', 'Franklin County', 'Franklin Parish', 'Fulton County', 'Gadsden County', 'Gallatin County', 'Geneva County', 'Glacier County', 'Glades County', 'Gogebic County', 'Grady County', 'Graves County', 'Grayson County', 'Green County', 'Greene County', 'Greenwood County', 'Grenada County', 'Guadalupe County', 'Hale County', 'Halifax County', 'Hamilton County', 'Hampton County', 'Hancock County', 'Hardee County', 'Harding County', 'Harlan County', 'Hempstead County', 'Hendry County', 'Hickman County', 'Hickory County', 'Highlands County', 'Holmes County', 'Hot Spring County', 'Howard County', 'Howell County', 'Hudspeth County', 'Huerfano County', 'Humphreys County', 'Idaho County', 'Iosco County', 'Iron County', 'Irwin County', 'Issaquena County', 'Izard County', 'Jackson County', 'Jackson Parish', 'Jeff Davis County', 'Jefferson Davis County', 'Jefferson Davis Parish', 'Jenkins County', 'Jewell County', 'Johnson County', 'Kemper County', 'Kiowa County', 'Knott County', 'Knox County', 'La Paz County', 'LaSalle Parish', 'Lafayette County', 'Lamar County', 'Lanier County', 'Las Animas County', 'Laurel County', 'Laurens County', 'Leake County', 'Leflore County', 'Lemhi County', 'Leslie County', 'Letcher County', 'Levy County', 'Lewis County', 'Liberty County', 'Lincoln Parish', 'Logan County', 'Lowndes County', 'Luna County', 'Macon County', 'Madison Parish', 'Magoffin County', 'Marengo County', 'Marion County', 'Marlboro County', 'McCreary County', 'McDonald County', 'McDonough County', 'McDuffie County', 'McKinley County', 'Mellette County', 'Menifee County', 'Meriwether County', 'Metcalfe County', 'Miller County', 'Mississippi County', 'Mitchell County', 'Monroe County', 'Montmorency County', 'Mora County', 'Morehouse Parish', 'Muhlenberg County', 'Natchitoches Parish', 'Navajo County', 'Neshoba County', 'Nevada County', 'New Madrid County', 'Newton County', 'Nicholas County', 'Northampton County', 'Noxubee County', 'Ogemaw County', 'Okeechobee County', 'Oktibbeha County', 'Ontonagon County', 'Oregon County', 'Orleans Parish', 'Oscoda County', 'Otero County', 'Ouachita County', 'Ouachita Parish', 'Owsley County', 'Owyhee County', 'Ozark County', 'Panola County', 'Pemiscot County', 'Perry County', 'Phillips County', 'Pickens County', 'Pike County', 'Piscataquis County', 'Poinsett County', 'Pointe Coupee Parish', 'Polk County', 'Pope County', 'Powell County', 'Prairie County', 'Prentiss County', 'Prowers County', 'Putnam County', 'Quay County', 'Quitman County', 'Rabun County', 'Randolph County', 'Red River Parish', 'Reynolds County', 'Richland Parish', 'Richmond County', 'Rio Arriba County', 'Rio Grande County', 'Robertson County', 'Robeson County', 'Rockcastle County', 'Roscommon County', 'Rowan County', 'Russell County', 'Sabine Parish', 'Saguache County', 'Sanders County', 'Santa Cruz County', 'Scott County', 'Screven County', 'Searcy County', 'Sedgwick County', 'Shannon County', 'Sharkey County', 'Sharp County', 'Shoshone County', 'Smith County', 'Socorro County', 'Somerset County', 'St. Francis County', 'St. Helena Parish', 'St. Landry Parish', 'St. Mary Parish', 'Stewart County', 'Stoddard County', 'Stone County', 'Sumter County', 'Sunflower County', 'Suwannee County', 'Talbot County', 'Taliaferro County', 'Talladega County', 'Tallahatchie County', 'Tattnall County', 'Taylor County', 'Telfair County', 'Tensas Parish', 'Terrell County', 'Texas County', 'Thomas County', 'Tift County', 'Tippah County', 'Tishomingo County', 'Toombs County', 'Torrance County', 'Treutlen County', 'Trinity County', 'Tunica County', 'Turner County', 'Twiggs County', 'Tyrrell County', 'Union County', 'Union Parish', 'Upson County', 'Van Buren County', 'Walker County', 'Walthall County', 'Ware County', 'Warren County', 'Washington County', 'Washington Parish', 'Wayne County', 'Webster County', 'Webster Parish', 'West Carroll Parish', 'Wheatland County', 'Wheeler County', 'White County', 'Wilcox County', 'Wilkes County', 'Wilkinson County', 'Williamsburg County', 'Winn Parish', 'Winston County', 'Wolfe County', 'Woodruff County', 'Woodson County', 'Yalobusha County', 'Yazoo County', 'Yukon-Koyukuk Census Area'], ['Adair County', 'Alachua County', 'Allamakee County', 'Allegany County', 'Allen County', 'Anderson County', 'Androscoggin County', 'Antrim County', 'Archuleta County', 'Arkansas County', 'Atchison County', 'Audubon County', 'Autauga County', 'Baldwin County', 'Ballard County', 'Baltimore city', 'Banks County', 'Banner County', 'Bannock County', 'Barber County', 'Barton County', 'Bartow County', 'Bay County', 'Bear Lake County', 'Beauregard Parish', 'Beltrami County', 'Benewah County', 'Bethel Census Area', 'Bibb County', 'Big Stone County', 'Bingham County', 'Black Hawk County', 'Bleckley County', 'Blount County', 'Boise County', 'Bond County', 'Bonner County', 'Bonneville County', 'Bossier Parish', 'Boyd County', 'Boyle County', 'Bracken County', 'Bradford County', 'Branch County', 'Breckinridge County', 'Brevard County', 'Broward County', 'Brown County', 'Buena Vista County', 'Bulloch County', 'Bureau County', 'Butte County', 'Butts County', 'Calcasieu Parish', 'Caldwell County', 'Calhoun County', 'Camden County', 'Cameron Parish', 'Canyon County', 'Cape Girardeau County', 'Caroline County', 'Carroll County', 'Carson City', 'Cass County', 'Cassia County', 'Catoosa County', 'Cerro Gordo County', 'Chaffee County', 'Champaign County', 'Charlevoix County', 'Charlotte County', 'Chase County', 'Chatham County', 'Chattahoochee County', 'Cherry County', 'Cheyenne County', 'Chickasaw County', 'Chilton County', 'Christian County', 'Churchill County', 'Clayton County', 'Cleveland County', 'Cloud County', 'Cochise County', 'Coconino County', 'Coffee County', 'Colbert County', 'Coles County', 'Colusa County', 'Comanche County', 'Cottonwood County', 'Cowley County', 'Craighead County', 'Crawford County', 'Crow Wing County', 'Cullman County', 'Cumberland County', 'Cuming County', 'Custer County', 'Dale County', 'Daniels County', 'Daviess County', 'De Witt County', 'Del Norte County', 'Delta County', 'Des Moines County', 'Dillingham Census Area', 'Dolores County', 'Doniphan County', 'Dorchester County', 'Duval County', 'East Baton Rouge Parish', 'East Feliciana Parish', 'Edgar County', 'Edwards County', 'Elkhart County', 'Ellis County', 'Ellsworth County', 'Elmore County', 'Emmet County', 'Fannin County', 'Faribault County', 'Faulkner County', 'Finney County', 'Flagler County', 'Flathead County', 'Floyd County', 'Ford County', 'Fountain County', 'Freeborn County', 'Fremont County', 'Fresno County', 'Frontier County', 'Garland County', 'Garrard County', 'Garrett County', 'Gasconade County', 'Geary County', 'Gem County', 'Genesee County', 'Gibson County', 'Gila County', 'Gilchrist County', 'Gilmer County', 'Glascock County', 'Glenn County', 'Glynn County', 'Gooding County', 'Gordon County', 'Gove County', 'Graham County', 'Grant County', 'Grant Parish', 'Greeley County', 'Greenup County', 'Gulf County', 'Gunnison County', 'Habersham County', 'Hampden County', 'Haralson County', 'Hardin County', 'Harper County', 'Harrison County', 'Hart County', 'Harvey County', 'Haskell County', 'Heard County', 'Henderson County', 'Henry County', 'Hernando County', 'Hillsborough County', 'Hillsdale County', 'Hinsdale County', 'Hodgeman County', 'Hoonah-Angoon Census Area', 'Hopkins County', 'Houston County', 'Hubbard County', 'Humboldt County', 'Huntington County', 'Iberia Parish', 'Iberville Parish', 'Ida County', 'Imperial County', 'Independence County', 'Indian River County', 'Ingham County', 'Inyo County', 'Ionia County', 'Iroquois County', 'Itasca County', 'Jasper County', 'Jay County', 'Jefferson County', 'Jefferson Parish', 'Jennings County', 'Jerome County', 'Jo Daviess County', 'Jones County', 'Kalamazoo County', 'Kanabec County', 'Kankakee County', 'Kearny County', 'Kennebec County', 'Kent County', 'Keokuk County', 'Kern County', 'Keweenaw County', 'Kingman County', 'Kings County', 'Kit Carson County', 'Kittson County', 'Koochiching County', 'Kootenai County', 'Kossuth County', 'LaPorte County', 'LaSalle County', 'Labette County', 'Lac qui Parle County', 'Lafayette Parish', 'Lafourche Parish', 'Lake County', 'Lake and Peninsula Borough', 'Lake of the Woods County', 'Lane County', 'Larue County', 'Lassen County', 'Latah County', 'Lauderdale County', 'Lawrence County', 'Lee County', 'Lenawee County', 'Leon County', 'Limestone County', 'Lincoln County', 'Little River County', 'Livingston County', 'Long County', 'Lonoke County', 'Louisa County', 'Lucas County', 'Lumpkin County', 'Macoupin County', 'Madera County', 'Mahaska County', 'Manatee County', 'Manistee County', 'Mariposa County', 'Marquette County', 'Marshall County', 'Mason County', 'Massac County', 'McCone County', 'McCracken County', 'McIntosh County', 'Meade County', 'Mendocino County', 'Merced County', 'Mercer County', 'Merrick County', 'Mesa County', 'Miami County', 'Miami-Dade County', 'Mille Lacs County', 'Mineral County', 'Minidoka County', 'Missoula County', 'Mobile County', 'Modoc County', 'Moffat County', 'Mohave County', 'Moniteau County', 'Monona County', 'Montcalm County', 'Montezuma County', 'Montgomery County', 'Montrose County', 'Morgan County', 'Morris County', 'Morrison County', 'Morton County', 'Mower County', 'Murray County', 'Muscatine County', 'Muscogee County', 'Muskegon County', 'Neosho County', 'Ness County', 'Newaygo County', 'Nez Perce County', 'Noble County', 'Nobles County', 'Nome Census Area', 'Norman County', 'Norton County', \"O'Brien County\", 'Oceana County', 'Oglethorpe County', 'Oneida County', 'Osage County', 'Osborne County', 'Osceola County', 'Otsego County', 'Ottawa County', 'Owen County', 'Oxford County', 'Page County', 'Palo Alto County', 'Parke County', 'Pasco County', 'Pawnee County', 'Payette County', 'Peach County', 'Pendleton County', 'Penobscot County', 'Peoria County', 'Pershing County', 'Pierce County', 'Pima County', 'Pinal County', 'Pine County', 'Pinellas County', 'Pipestone County', 'Plumas County', 'Pocahontas County', 'Powder River County', 'Power County', 'Poweshiek County', 'Pratt County', 'Prince of Wales-Hyder Census Area', 'Pueblo County', 'Pulaski County', 'Ralls County', 'Rapides Parish', 'Ravalli County', 'Rawlins County', 'Redwood County', 'Reno County', 'Republic County', 'Rice County', 'Richland County', 'Riley County', 'Ringgold County', 'Rio Blanco County', 'Ripley County', 'Rock Island County', 'Rockdale County', 'Rooks County', 'Rosebud County', 'Rush County', 'Sac County', 'San Juan County', 'Schley County', 'Schuyler County', 'Sebastian County', 'Sevier County', 'Seward County', 'Shasta County', 'Shawnee County', 'Sherman County', 'Shiawassee County', 'Sierra County', 'Simpson County', 'Siskiyou County', 'Spalding County', 'Spencer County', 'St. Bernard Parish', 'St. Clair County', 'St. James Parish', 'St. John the Baptist Parish', 'St. Joseph County', 'St. Louis County', 'St. Lucie County', 'St. Martin Parish', 'Stafford County', 'Stanislaus County', 'Stanton County', 'Stark County', 'Starke County', 'Stephens County', 'Stephenson County', 'Steuben County', 'Stevens County', 'Story County', 'Sullivan County', 'Sumner County', 'Sutter County', 'Sweet Grass County', 'Swift County', 'Switzerland County', 'Tallapoosa County', 'Tama County', 'Tangipahoa Parish', 'Tate County', 'Tehama County', 'Terrebonne Parish', 'Tippecanoe County', 'Todd County', 'Towns County', 'Traverse County', 'Trigg County', 'Trimble County', 'Troup County', 'Tulare County', 'Tuolumne County', 'Tuscaloosa County', 'Tuscola County', 'Twin Falls County', 'Vanderburgh County', 'Vermilion County', 'Vermilion Parish', 'Vermillion County', 'Vernon Parish', 'Vigo County', 'Volusia County', 'Wabash County', 'Waldo County', 'Wallace County', 'Walton County', 'Wapello County', 'Watonwan County', 'Wells County', 'Whiteside County', 'Whitfield County', 'Wichita County', 'Wilkin County', 'Williamson County', 'Wilson County', 'Winnebago County', 'Woodbury County', 'Worth County', 'Wrangell City and Borough', 'Wright County', 'Wyandotte County', 'Yavapai County', 'Yell County', 'Yuba County', 'Yuma County'], ['Alameda County', 'Aleutians West Census Area', 'Anchorage Municipality', 'Anne Arundel County', 'Anoka County', 'Arapahoe County', 'Ascension Parish', 'Bergen County', 'Billings County', 'Boulder County', 'Brazoria County', 'Bristol Bay Borough', 'Broomfield County', 'Bucks County', 'Burlington County', 'Calvert County', 'Carver County', 'Charles County', 'Chester County', 'Chisago County', 'Clackamas County', 'Cobb County', 'Collin County', 'Comal County', 'Contra Costa County', 'Dakota County', 'Denali Borough', 'Denton County', 'District of Columbia', 'Douglas County', 'DuPage County', 'Dutchess County', 'Eagle County', 'El Dorado County', 'Elbert County', 'Elko County', 'Essex County', 'Fairbanks North Star Borough', 'Fairfield County', 'Forsyth County', 'Fort Bend County', 'Frederick County', 'Geauga County', 'Gilpin County', 'Gloucester County', 'Harford County', 'Hendricks County', 'Hennepin County', 'Honolulu County', 'Hunterdon County', 'Juneau City and Borough', 'Kane County', 'Kauai County', 'Kendall County', 'Kodiak Island Borough', 'Lander County', 'Litchfield County', 'Los Alamos County', 'Marin County', 'Matanuska-Susitna Borough', 'Maui County', 'McHenry County', 'McKenzie County', 'Middlesex County', 'Monmouth County', 'Nantucket County', 'Napa County', 'New York County', 'Newport County', 'Norfolk County', 'North Slope Borough', 'Oakland County', 'Oconee County', 'Oldham County', 'Olmsted County', 'Orange County', 'Pitkin County', 'Placer County', 'Platte County', \"Prince George's County\", \"Queen Anne's County\", 'Rockingham County', 'Rockland County', 'San Benito County', 'San Diego County', 'San Francisco County', 'San Mateo County', 'Santa Clara County', 'Saratoga County', 'Sarpy County', 'Shelby County', 'Sherburne County', 'Solano County', 'Sonoma County', 'St. Charles County', 'St. Johns County', \"St. Mary's County\", 'Summit County', 'Tolland County', 'Ventura County', 'Wake County', 'Westchester County', 'Will County', 'Williams County'], ['Ada County', 'Adams County', 'Albany County', 'Aleutians East Borough', 'Alfalfa County', 'Allegan County', 'Allegheny County', 'Alpine County', 'Amador County', 'Andrew County', 'Andrews County', 'Archer County', 'Atlantic County', 'Auglaize County', 'Aurora County', 'Austin County', 'Baker County', 'Baltimore County', 'Bandera County', 'Barnes County', 'Barnstable County', 'Barrow County', 'Barry County', 'Bartholomew County', 'Bastrop County', 'Becker County', 'Belknap County', 'Benton County', 'Benzie County', 'Berkeley County', 'Berks County', 'Berkshire County', 'Blaine County', 'Blanco County', 'Blue Earth County', 'Borden County', 'Bottineau County', 'Bowman County', 'Box Butte County', 'Bremer County', 'Bristol County', 'Broadwater County', 'Brunswick County', 'Bryan County', 'Buchanan County', 'Buffalo County', 'Bullitt County', 'Burleigh County', 'Burnet County', 'Cabarrus County', 'Calaveras County', 'Callaway County', 'Campbell County', 'Canadian County', 'Cape May County', 'Carbon County', 'Caribou County', 'Carlton County', 'Carson County', 'Cavalier County', 'Cayuga County', 'Cecil County', 'Cedar County', 'Centre County', 'Charleston County', 'Cheatham County', 'Cheshire County', 'Clear Creek County', 'Clermont County', 'Clinton County', 'Coffey County', 'Cole County', 'Colfax County', 'Collier County', 'Cooke County', 'Cortland County', 'Coweta County', 'Crane County', 'Currituck County', 'Dare County', 'Dauphin County', 'Davie County', 'Davis County', 'Dawson County', 'Dearborn County', 'Defiance County', 'Denver County', 'Deschutes County', 'Dickey County', 'Dickinson County', 'Divide County', 'Dixon County', 'Dubois County', 'Dubuque County', 'Dukes County', 'Dunn County', 'Durham County', 'Eaton County', 'Ector County', 'Eddy County', 'Edmunds County', 'Effingham County', 'El Paso County', 'Erie County', 'Eureka County', 'Fallon County', 'Fillmore County', 'Foster County', 'Gaines County', 'Galveston County', 'Garfield County', 'Gillespie County', 'Glasscock County', 'Goodhue County', 'Gosper County', 'Grafton County', 'Grand County', 'Grand Traverse County', 'Gray County', 'Greenlee County', 'Greenville County', 'Grundy County', 'Guthrie County', 'Gwinnett County', 'Haines Borough', 'Hall County', 'Hamlin County', 'Hampshire County', 'Hanson County', 'Harris County', 'Hartford County', 'Hartley County', 'Hawaii County', 'Hays County', 'Hemphill County', 'Hettinger County', 'Hood County', 'Hood River County', 'Hudson County', 'Iowa County', 'Iredell County', 'Isanti County', 'Jersey County', 'Jessamine County', 'Johnston County', 'Kalawao County', 'Kandiyohi County', 'Kearney County', 'Kenai Peninsula Borough', 'Kenton County', 'Ketchikan Gateway Borough', 'Kingfisher County', 'Kingsbury County', 'Kosciusko County', 'La Plata County', 'LaGrange County', 'LaMoure County', 'Lancaster County', 'Lapeer County', 'Larimer County', 'Le Sueur County', 'Lea County', 'Leavenworth County', 'Lebanon County', 'Leelanau County', 'Lehigh County', 'Lewis and Clark County', 'Lexington County', 'Licking County', 'Linn County', 'Livingston Parish', 'Lorain County', 'Los Angeles County', 'Loudon County', 'Lyon County', 'Macomb County', 'Madison County', 'Maricopa County', 'Martin County', 'McClain County', 'McCook County', 'McLean County', 'McLeod County', 'McPherson County', 'Mecklenburg County', 'Medina County', 'Meeker County', 'Menard County', 'Merrimack County', 'Midland County', 'Mills County', 'Minnehaha County', 'Mono County', 'Monterey County', 'Montour County', 'Moody County', 'Moore County', 'Morrow County', 'Moultrie County', 'Mountrail County', 'Multnomah County', 'Nassau County', 'Nelson County', 'Nemaha County', 'New Castle County', 'New Haven County', 'New London County', 'Nicollet County', 'Northwest Arctic Borough', 'Ocean County', 'Ogle County', 'Ohio County', 'Okaloosa County', 'Oliver County', 'Onondaga County', 'Ontario County', 'Otoe County', 'Otter Tail County', 'Ouray County', 'Palm Beach County', 'Park County', 'Passaic County', 'Paulding County', 'Pembina County', 'Pender County', 'Pennington County', 'Perkins County', 'Petersburg Borough', 'Piatt County', 'Pickaway County', 'Plaquemines Parish', 'Plymouth County', 'Portage County', 'Porter County', 'Posey County', 'Pottawatomie County', 'Pottawattamie County', 'Preble County', 'Providence County', 'Queens County', 'Ramsey County', 'Rankin County', 'Ransom County', 'Ray County', 'Red Lake County', 'Rensselaer County', 'Renville County', 'Riverside County', 'Rock County', 'Rogers County', 'Roseau County', 'Routt County', 'Sacramento County', 'Sagadahoc County', 'Salem County', 'Saline County', 'San Bernardino County', 'San Joaquin County', 'San Luis Obispo County', 'San Miguel County', 'Sandoval County', 'Sangamon County', 'Santa Barbara County', 'Santa Fe County', 'Santa Rosa County', 'Sarasota County', 'Sargent County', 'Saunders County', 'Schenectady County', 'Schoharie County', 'Seminole County', 'Sheridan County', 'Sibley County', 'Sioux County', 'Sitka City and Borough', 'Skagway Municipality', 'Slope County', 'Snyder County', 'Southeast Fairbanks Census Area', 'St. Charles Parish', 'St. Tammany Parish', 'Stanley County', 'Ste. Genevieve County', 'Stearns County', 'Steele County', 'Stillwater County', 'Storey County', 'Strafford County', 'Suffolk County', 'Sully County', 'Sussex County', 'Tazewell County', 'Teller County', 'Teton County', 'Tioga County', 'Tipton County', 'Tompkins County', 'Traill County', 'Trego County', 'Ulster County', 'Valley County', 'Wabasha County', 'Wabaunsee County', 'Wagoner County', 'Wakulla County', 'Ward County', 'Warrick County', 'Waseca County', 'Washoe County', 'Washtenaw County', 'Weld County', 'West Baton Rouge Parish', 'West Feliciana Parish', 'Westmoreland County', 'White Pine County', 'Whitley County', 'Wicomico County', 'Windham County', 'Winneshiek County', 'Winona County', 'Wood County', 'Woodford County', 'Woodward County', 'Worcester County', 'Wyoming County', 'Yakutat City and Borough', 'Yamhill County', 'Yankton County', 'Yellow Medicine County', 'Yellowstone County', 'Yolo County', 'York County'], ['Abbeville County', 'Aiken County', 'Aitkin County', 'Alamance County', 'Alger County', 'Angelina County', 'Anson County', 'Antelope County', 'Aransas County', 'Armstrong County', 'Arthur County', 'Ashe County', 'Ashland County', 'Ashtabula County', 'Atascosa County', 'Athens County', 'Atoka County', 'Audrain County', 'Avery County', 'Bailey County', 'Bamberg County', 'Baraga County', 'Barnwell County', 'Bates County', 'Baylor County', 'Beadle County', 'Beaufort County', 'Beaver County', 'Beaverhead County', 'Beckham County', 'Bedford County', 'Bee County', 'Belmont County', 'Bennett County', 'Benson County', 'Bernalillo County', 'Bexar County', 'Big Horn County', 'Blair County', 'Bledsoe County', 'Bollinger County', 'Bon Homme County', 'Bosque County', 'Bowie County', 'Brazos County', 'Brewster County', 'Briscoe County', 'Bronx County', 'Brookings County', 'Broome County', 'Brule County', 'Buncombe County', 'Burleson County', 'Burt County', 'Caddo County', 'Callahan County', 'Cambria County', 'Cameron County', 'Camp County', 'Cannon County', 'Carteret County', 'Cascade County', 'Castro County', 'Caswell County', 'Catawba County', 'Catron County', 'Cattaraugus County', 'Chariton County', 'Charles Mix County', 'Chaves County', 'Cheboygan County', 'Chemung County', 'Chenango County', 'Chesterfield County', 'Childress County', 'Chippewa County', 'Chouteau County', 'Chowan County', 'Cibola County', 'Cimarron County', 'Clarendon County', 'Clarion County', 'Clatsop County', 'Clearfield County', 'Coal County', 'Cochran County', 'Cocke County', 'Codington County', 'Coke County', 'Coleman County', 'Colleton County', 'Collingsworth County', 'Colorado County', 'Columbiana County', 'Concho County', 'Cooper County', 'Coos County', 'Corson County', 'Coryell County', 'Coshocton County', 'Cottle County', 'Cotton County', 'Craig County', 'Craven County', 'Creek County', 'Crockett County', 'Crook County', 'Crosby County', 'Culberson County', 'Curry County', 'Cuyahoga County', 'Dallam County', 'Darke County', 'Darlington County', 'Davidson County', 'Davison County', 'Dawes County', 'Day County', 'DeWitt County', 'Deaf Smith County', 'Deer Lodge County', 'Deuel County', 'Dewey County', 'Dickens County', 'Dickson County', 'Donley County', 'DoÃ±a Ana County', 'Dundy County', 'Duplin County', 'Dyer County', 'Eastland County', 'Edgefield County', 'Emmons County', 'Erath County', 'Fall River County', 'Falls County', 'Faulk County', 'Fentress County', 'Fergus County', 'Fisher County', 'Florence County', 'Foard County', 'Forest County', 'Freestone County', 'Frio County', 'Furnas County', 'Gage County', 'Gallia County', 'Garden County', 'Garvin County', 'Garza County', 'Gaston County', 'Gates County', 'Gentry County', 'George County', 'Georgetown County', 'Giles County', 'Gilliam County', 'Gladwin County', 'Golden Valley County', 'Goliad County', 'Gonzales County', 'Grainger County', 'Grand Forks County', 'Granite County', 'Granville County', 'Gratiot County', 'Greer County', 'Gregg County', 'Gregory County', 'Griggs County', 'Grimes County', 'Guernsey County', 'Guilford County', 'Haakon County', 'Hamblen County', 'Hand County', 'Hansford County', 'Hardeman County', 'Harmon County', 'Harnett County', 'Harney County', 'Hawkins County', 'Hayes County', 'Haywood County', 'Herkimer County', 'Hertford County', 'Hidalgo County', 'Highland County', 'Hill County', 'Hinds County', 'Hitchcock County', 'Hocking County', 'Hockley County', 'Hoke County', 'Holt County', 'Hooker County', 'Horry County', 'Houghton County', 'Hughes County', 'Hunt County', 'Huntingdon County', 'Huron County', 'Hutchinson County', 'Hyde County', 'Indiana County', 'Irion County', 'Isabella County', 'Itawamba County', 'Jerauld County', 'Josephine County', 'Judith Basin County', 'Juniata County', 'Kalkaska County', 'Kay County', 'Keith County', 'Kershaw County', 'Keya Paha County', 'Kidder County', 'Kimball County', 'Klamath County', 'Lackawanna County', 'Laclede County', 'Latimer County', 'Le Flore County', 'Lenoir County', 'Loup County', 'Love County', 'Luce County', 'Luzerne County', 'Lycoming County', 'Lyman County', 'Mackinac County', 'Mahnomen County', 'Mahoning County', 'Major County', 'Malheur County', 'Maries County', 'Maury County', 'Mayes County', 'McCormick County', 'McCurtain County', 'McDowell County', 'McKean County', 'McMinn County', 'McNairy County', 'Meagher County', 'Mecosta County', 'Meigs County', 'Menominee County', 'Mifflin County', 'Miner County', 'Missaukee County', 'Morrill County', 'Muskingum County', 'Muskogee County', 'Musselshell County', 'Nance County', 'Nash County', 'New Hanover County', 'Newberry County', 'Niagara County', 'Nodaway County', 'Northumberland County', 'Nowata County', 'Nuckolls County', 'Nye County', 'Obion County', 'Okfuskee County', 'Oklahoma County', 'Okmulgee County', 'Onslow County', 'Orangeburg County', 'Orleans County', 'Oswego County', 'Overton County', 'Pamlico County', 'Pasquotank County', 'Payne County', 'Pearl River County', 'Perquimans County', 'Person County', 'Petroleum County', 'Pettis County', 'Phelps County', 'Philadelphia County', 'Pickett County', 'Pitt County', 'Pittsburg County', 'Pondera County', 'Pontotoc County', 'Potter County', 'Presque Isle County', 'Pushmataha County', 'Red Willow County', 'Rhea County', 'Richardson County', 'Roane County', 'Roberts County', 'Roger Mills County', 'Rolette County', 'Roosevelt County', 'Ross County', 'Rutherford County', 'Saginaw County', 'Saluda County', 'Sampson County', 'Sanborn County', 'Sandusky County', 'Sanilac County', 'Schoolcraft County', 'Schuylkill County', 'Scioto County', 'Scotland County', 'Scotts Bluff County', 'Seneca County', 'Sequatchie County', 'Sequoyah County', 'Silver Bow County', 'Spartanburg County', 'Spink County', 'St. Francois County', 'St. Lawrence County', 'St. Louis city', 'Stanly County', 'Stokes County', 'Stutsman County', 'Surry County', 'Susquehanna County', 'Swain County', 'Taney County', 'Taos County', 'Thayer County', 'Thurston County', 'Tillamook County', 'Tillman County', 'Toole County', 'Towner County', 'Transylvania County', 'Treasure County', 'Tripp County', 'Trousdale County', 'Trumbull County', 'Tulsa County', 'Tuscarawas County', 'Umatilla County', 'Unicoi County', 'Valencia County', 'Van Wert County', 'Vance County', 'Venango County', 'Vernon County', 'Vinton County', 'Wadena County', 'Wallowa County', 'Walsh County', 'Walworth County', 'Wasco County', 'Washita County', 'Watauga County', 'Weakley County', 'Wexford County', 'Wibaux County', 'Woods County', 'Wyandot County', 'Yadkin County', 'Yancey County', 'Yates County', 'Ziebach County']]\n"
     ]
    }
   ],
   "source": []
  },
  {
   "cell_type": "code",
   "execution_count": 243,
   "id": "2b9c8cd1",
   "metadata": {},
   "outputs": [
    {
     "name": "stdout",
     "output_type": "stream",
     "text": [
      "0.8248486509697642\n",
      "0.6759524317186393\n",
      "0.828402190056194\n",
      "0.49466096248371794\n",
      "0.8358358036994769\n",
      "-0.7326765880559494\n",
      "0.8687487133325877\n",
      "0.49813242843819017\n",
      "0.840638997188922\n",
      "0.37807802240382504\n",
      "0.8202647811369912\n",
      "0.704387548520325\n",
      "0.8458008708097438\n",
      "0.2988347214295014\n",
      "0.8418645536921793\n",
      "0.5315525168587674\n",
      "0.8151061065141901\n",
      "0.36487893659584547\n",
      "0.8355135301623865\n",
      "0.09755723440264663\n",
      "0.806936086554982\n",
      "0.5061143280890023\n",
      "0.7974808737101328\n",
      "0.5914436660345268\n",
      "0.8154202505369239\n",
      "0.781714844237513\n",
      "0.8185865784874707\n",
      "0.7521978281229479\n",
      "0.8299179307293104\n",
      "0.6795517197041788\n",
      "0.8382717178853412\n",
      "0.7294718938781699\n",
      "0.8444171625900075\n",
      "0.7504629154612688\n"
     ]
    },
    {
     "ename": "ValueError",
     "evalue": "Found array with 0 sample(s) (shape=(0, 3)) while a minimum of 1 is required.",
     "output_type": "error",
     "traceback": [
      "\u001b[0;31m---------------------------------------------------------------------------\u001b[0m",
      "\u001b[0;31mValueError\u001b[0m                                Traceback (most recent call last)",
      "Input \u001b[0;32mIn [243]\u001b[0m, in \u001b[0;36m<cell line: 1>\u001b[0;34m()\u001b[0m\n\u001b[1;32m     28\u001b[0m test_X[:, \u001b[38;5;241m2\u001b[39m] \u001b[38;5;241m=\u001b[39m test_df[\u001b[38;5;124m'\u001b[39m\u001b[38;5;124mmicrobusiness_density-1\u001b[39m\u001b[38;5;124m'\u001b[39m]\n\u001b[1;32m     29\u001b[0m test_Y[:] \u001b[38;5;241m=\u001b[39m test_df[\u001b[38;5;124m'\u001b[39m\u001b[38;5;124mmicrobusiness_density\u001b[39m\u001b[38;5;124m'\u001b[39m]\n\u001b[0;32m---> 30\u001b[0m reg \u001b[38;5;241m=\u001b[39m \u001b[43mGradientBoostingRegressor\u001b[49m\u001b[43m(\u001b[49m\u001b[43mn_estimators\u001b[49m\u001b[43m \u001b[49m\u001b[38;5;241;43m=\u001b[39;49m\u001b[43m \u001b[49m\u001b[38;5;241;43m10\u001b[39;49m\u001b[43m)\u001b[49m\u001b[38;5;241;43m.\u001b[39;49m\u001b[43mfit\u001b[49m\u001b[43m(\u001b[49m\u001b[43mX\u001b[49m\u001b[43m,\u001b[49m\u001b[43m \u001b[49m\u001b[43mY\u001b[49m\u001b[43m)\u001b[49m\n\u001b[1;32m     31\u001b[0m \u001b[38;5;28mprint\u001b[39m(reg\u001b[38;5;241m.\u001b[39mscore(X, Y))\n\u001b[1;32m     32\u001b[0m \u001b[38;5;28mprint\u001b[39m(reg\u001b[38;5;241m.\u001b[39mscore(test_X, test_Y))\n",
      "File \u001b[0;32m~/opt/anaconda3/lib/python3.9/site-packages/sklearn/ensemble/_gb.py:486\u001b[0m, in \u001b[0;36mBaseGradientBoosting.fit\u001b[0;34m(self, X, y, sample_weight, monitor)\u001b[0m\n\u001b[1;32m    480\u001b[0m     \u001b[38;5;28mself\u001b[39m\u001b[38;5;241m.\u001b[39m_clear_state()\n\u001b[1;32m    482\u001b[0m \u001b[38;5;66;03m# Check input\u001b[39;00m\n\u001b[1;32m    483\u001b[0m \u001b[38;5;66;03m# Since check_array converts both X and y to the same dtype, but the\u001b[39;00m\n\u001b[1;32m    484\u001b[0m \u001b[38;5;66;03m# trees use different types for X and y, checking them separately.\u001b[39;00m\n\u001b[0;32m--> 486\u001b[0m X, y \u001b[38;5;241m=\u001b[39m \u001b[38;5;28;43mself\u001b[39;49m\u001b[38;5;241;43m.\u001b[39;49m\u001b[43m_validate_data\u001b[49m\u001b[43m(\u001b[49m\n\u001b[1;32m    487\u001b[0m \u001b[43m    \u001b[49m\u001b[43mX\u001b[49m\u001b[43m,\u001b[49m\u001b[43m \u001b[49m\u001b[43my\u001b[49m\u001b[43m,\u001b[49m\u001b[43m \u001b[49m\u001b[43maccept_sparse\u001b[49m\u001b[38;5;241;43m=\u001b[39;49m\u001b[43m[\u001b[49m\u001b[38;5;124;43m\"\u001b[39;49m\u001b[38;5;124;43mcsr\u001b[39;49m\u001b[38;5;124;43m\"\u001b[39;49m\u001b[43m,\u001b[49m\u001b[43m \u001b[49m\u001b[38;5;124;43m\"\u001b[39;49m\u001b[38;5;124;43mcsc\u001b[39;49m\u001b[38;5;124;43m\"\u001b[39;49m\u001b[43m,\u001b[49m\u001b[43m \u001b[49m\u001b[38;5;124;43m\"\u001b[39;49m\u001b[38;5;124;43mcoo\u001b[39;49m\u001b[38;5;124;43m\"\u001b[39;49m\u001b[43m]\u001b[49m\u001b[43m,\u001b[49m\u001b[43m \u001b[49m\u001b[43mdtype\u001b[49m\u001b[38;5;241;43m=\u001b[39;49m\u001b[43mDTYPE\u001b[49m\u001b[43m,\u001b[49m\u001b[43m \u001b[49m\u001b[43mmulti_output\u001b[49m\u001b[38;5;241;43m=\u001b[39;49m\u001b[38;5;28;43;01mTrue\u001b[39;49;00m\n\u001b[1;32m    488\u001b[0m \u001b[43m\u001b[49m\u001b[43m)\u001b[49m\n\u001b[1;32m    490\u001b[0m sample_weight_is_none \u001b[38;5;241m=\u001b[39m sample_weight \u001b[38;5;129;01mis\u001b[39;00m \u001b[38;5;28;01mNone\u001b[39;00m\n\u001b[1;32m    492\u001b[0m sample_weight \u001b[38;5;241m=\u001b[39m _check_sample_weight(sample_weight, X)\n",
      "File \u001b[0;32m~/opt/anaconda3/lib/python3.9/site-packages/sklearn/base.py:581\u001b[0m, in \u001b[0;36mBaseEstimator._validate_data\u001b[0;34m(self, X, y, reset, validate_separately, **check_params)\u001b[0m\n\u001b[1;32m    579\u001b[0m         y \u001b[38;5;241m=\u001b[39m check_array(y, \u001b[38;5;241m*\u001b[39m\u001b[38;5;241m*\u001b[39mcheck_y_params)\n\u001b[1;32m    580\u001b[0m     \u001b[38;5;28;01melse\u001b[39;00m:\n\u001b[0;32m--> 581\u001b[0m         X, y \u001b[38;5;241m=\u001b[39m \u001b[43mcheck_X_y\u001b[49m\u001b[43m(\u001b[49m\u001b[43mX\u001b[49m\u001b[43m,\u001b[49m\u001b[43m \u001b[49m\u001b[43my\u001b[49m\u001b[43m,\u001b[49m\u001b[43m \u001b[49m\u001b[38;5;241;43m*\u001b[39;49m\u001b[38;5;241;43m*\u001b[39;49m\u001b[43mcheck_params\u001b[49m\u001b[43m)\u001b[49m\n\u001b[1;32m    582\u001b[0m     out \u001b[38;5;241m=\u001b[39m X, y\n\u001b[1;32m    584\u001b[0m \u001b[38;5;28;01mif\u001b[39;00m \u001b[38;5;129;01mnot\u001b[39;00m no_val_X \u001b[38;5;129;01mand\u001b[39;00m check_params\u001b[38;5;241m.\u001b[39mget(\u001b[38;5;124m\"\u001b[39m\u001b[38;5;124mensure_2d\u001b[39m\u001b[38;5;124m\"\u001b[39m, \u001b[38;5;28;01mTrue\u001b[39;00m):\n",
      "File \u001b[0;32m~/opt/anaconda3/lib/python3.9/site-packages/sklearn/utils/validation.py:964\u001b[0m, in \u001b[0;36mcheck_X_y\u001b[0;34m(X, y, accept_sparse, accept_large_sparse, dtype, order, copy, force_all_finite, ensure_2d, allow_nd, multi_output, ensure_min_samples, ensure_min_features, y_numeric, estimator)\u001b[0m\n\u001b[1;32m    961\u001b[0m \u001b[38;5;28;01mif\u001b[39;00m y \u001b[38;5;129;01mis\u001b[39;00m \u001b[38;5;28;01mNone\u001b[39;00m:\n\u001b[1;32m    962\u001b[0m     \u001b[38;5;28;01mraise\u001b[39;00m \u001b[38;5;167;01mValueError\u001b[39;00m(\u001b[38;5;124m\"\u001b[39m\u001b[38;5;124my cannot be None\u001b[39m\u001b[38;5;124m\"\u001b[39m)\n\u001b[0;32m--> 964\u001b[0m X \u001b[38;5;241m=\u001b[39m \u001b[43mcheck_array\u001b[49m\u001b[43m(\u001b[49m\n\u001b[1;32m    965\u001b[0m \u001b[43m    \u001b[49m\u001b[43mX\u001b[49m\u001b[43m,\u001b[49m\n\u001b[1;32m    966\u001b[0m \u001b[43m    \u001b[49m\u001b[43maccept_sparse\u001b[49m\u001b[38;5;241;43m=\u001b[39;49m\u001b[43maccept_sparse\u001b[49m\u001b[43m,\u001b[49m\n\u001b[1;32m    967\u001b[0m \u001b[43m    \u001b[49m\u001b[43maccept_large_sparse\u001b[49m\u001b[38;5;241;43m=\u001b[39;49m\u001b[43maccept_large_sparse\u001b[49m\u001b[43m,\u001b[49m\n\u001b[1;32m    968\u001b[0m \u001b[43m    \u001b[49m\u001b[43mdtype\u001b[49m\u001b[38;5;241;43m=\u001b[39;49m\u001b[43mdtype\u001b[49m\u001b[43m,\u001b[49m\n\u001b[1;32m    969\u001b[0m \u001b[43m    \u001b[49m\u001b[43morder\u001b[49m\u001b[38;5;241;43m=\u001b[39;49m\u001b[43morder\u001b[49m\u001b[43m,\u001b[49m\n\u001b[1;32m    970\u001b[0m \u001b[43m    \u001b[49m\u001b[43mcopy\u001b[49m\u001b[38;5;241;43m=\u001b[39;49m\u001b[43mcopy\u001b[49m\u001b[43m,\u001b[49m\n\u001b[1;32m    971\u001b[0m \u001b[43m    \u001b[49m\u001b[43mforce_all_finite\u001b[49m\u001b[38;5;241;43m=\u001b[39;49m\u001b[43mforce_all_finite\u001b[49m\u001b[43m,\u001b[49m\n\u001b[1;32m    972\u001b[0m \u001b[43m    \u001b[49m\u001b[43mensure_2d\u001b[49m\u001b[38;5;241;43m=\u001b[39;49m\u001b[43mensure_2d\u001b[49m\u001b[43m,\u001b[49m\n\u001b[1;32m    973\u001b[0m \u001b[43m    \u001b[49m\u001b[43mallow_nd\u001b[49m\u001b[38;5;241;43m=\u001b[39;49m\u001b[43mallow_nd\u001b[49m\u001b[43m,\u001b[49m\n\u001b[1;32m    974\u001b[0m \u001b[43m    \u001b[49m\u001b[43mensure_min_samples\u001b[49m\u001b[38;5;241;43m=\u001b[39;49m\u001b[43mensure_min_samples\u001b[49m\u001b[43m,\u001b[49m\n\u001b[1;32m    975\u001b[0m \u001b[43m    \u001b[49m\u001b[43mensure_min_features\u001b[49m\u001b[38;5;241;43m=\u001b[39;49m\u001b[43mensure_min_features\u001b[49m\u001b[43m,\u001b[49m\n\u001b[1;32m    976\u001b[0m \u001b[43m    \u001b[49m\u001b[43mestimator\u001b[49m\u001b[38;5;241;43m=\u001b[39;49m\u001b[43mestimator\u001b[49m\u001b[43m,\u001b[49m\n\u001b[1;32m    977\u001b[0m \u001b[43m\u001b[49m\u001b[43m)\u001b[49m\n\u001b[1;32m    979\u001b[0m y \u001b[38;5;241m=\u001b[39m _check_y(y, multi_output\u001b[38;5;241m=\u001b[39mmulti_output, y_numeric\u001b[38;5;241m=\u001b[39my_numeric)\n\u001b[1;32m    981\u001b[0m check_consistent_length(X, y)\n",
      "File \u001b[0;32m~/opt/anaconda3/lib/python3.9/site-packages/sklearn/utils/validation.py:805\u001b[0m, in \u001b[0;36mcheck_array\u001b[0;34m(array, accept_sparse, accept_large_sparse, dtype, order, copy, force_all_finite, ensure_2d, allow_nd, ensure_min_samples, ensure_min_features, estimator)\u001b[0m\n\u001b[1;32m    803\u001b[0m     n_samples \u001b[38;5;241m=\u001b[39m _num_samples(array)\n\u001b[1;32m    804\u001b[0m     \u001b[38;5;28;01mif\u001b[39;00m n_samples \u001b[38;5;241m<\u001b[39m ensure_min_samples:\n\u001b[0;32m--> 805\u001b[0m         \u001b[38;5;28;01mraise\u001b[39;00m \u001b[38;5;167;01mValueError\u001b[39;00m(\n\u001b[1;32m    806\u001b[0m             \u001b[38;5;124m\"\u001b[39m\u001b[38;5;124mFound array with \u001b[39m\u001b[38;5;132;01m%d\u001b[39;00m\u001b[38;5;124m sample(s) (shape=\u001b[39m\u001b[38;5;132;01m%s\u001b[39;00m\u001b[38;5;124m) while a\u001b[39m\u001b[38;5;124m\"\u001b[39m\n\u001b[1;32m    807\u001b[0m             \u001b[38;5;124m\"\u001b[39m\u001b[38;5;124m minimum of \u001b[39m\u001b[38;5;132;01m%d\u001b[39;00m\u001b[38;5;124m is required\u001b[39m\u001b[38;5;132;01m%s\u001b[39;00m\u001b[38;5;124m.\u001b[39m\u001b[38;5;124m\"\u001b[39m\n\u001b[1;32m    808\u001b[0m             \u001b[38;5;241m%\u001b[39m (n_samples, array\u001b[38;5;241m.\u001b[39mshape, ensure_min_samples, context)\n\u001b[1;32m    809\u001b[0m         )\n\u001b[1;32m    811\u001b[0m \u001b[38;5;28;01mif\u001b[39;00m ensure_min_features \u001b[38;5;241m>\u001b[39m \u001b[38;5;241m0\u001b[39m \u001b[38;5;129;01mand\u001b[39;00m array\u001b[38;5;241m.\u001b[39mndim \u001b[38;5;241m==\u001b[39m \u001b[38;5;241m2\u001b[39m:\n\u001b[1;32m    812\u001b[0m     n_features \u001b[38;5;241m=\u001b[39m array\u001b[38;5;241m.\u001b[39mshape[\u001b[38;5;241m1\u001b[39m]\n",
      "\u001b[0;31mValueError\u001b[0m: Found array with 0 sample(s) (shape=(0, 3)) while a minimum of 1 is required."
     ]
    }
   ],
   "source": [
    "for cluster in clusters:\n",
    "    train_df = train_raw[train_raw['county'].isin(cluster)]\n",
    "    train_df=train_df.groupby(['county', 'first_day_of_month']).first()\n",
    "    train_mean = train_df['microbusiness_density'].mean()\n",
    "    train_df['microbusiness_density-3'] = train_df['microbusiness_density'].shift(1, fill_value=train_mean)\n",
    "    train_df['microbusiness_density-2'] = train_df['microbusiness_density'].shift(2, fill_value=train_mean)\n",
    "    train_df['microbusiness_density-1'] = train_df['microbusiness_density'].shift(3, fill_value=train_mean)\n",
    "\n",
    "    test_df = test_raw[test_raw['county'].isin(cluster)]\n",
    "    test_df=test_df.groupby(['county', 'first_day_of_month']).first()\n",
    "    test_mean = test_df['microbusiness_density'].mean()\n",
    "    test_df['microbusiness_density-3'] = test_df['microbusiness_density'].shift(1, fill_value=test_mean)\n",
    "    test_df['microbusiness_density-2'] = test_df['microbusiness_density'].shift(2, fill_value=test_mean)\n",
    "    test_df['microbusiness_density-1'] = test_df['microbusiness_density'].shift(3, fill_value=test_mean)\n",
    "\n",
    "    import numpy as np\n",
    "    from sklearn.linear_model import LinearRegression\n",
    "    X = np.zeros((len(train_df), 3))\n",
    "    Y = np.zeros((len(train_df),))\n",
    "    X[:, 0] = train_df['microbusiness_density-3']\n",
    "    X[:, 1] = train_df['microbusiness_density-2']\n",
    "    X[:, 2] = train_df['microbusiness_density-1']\n",
    "    Y[:] = train_df['microbusiness_density']\n",
    "    test_X = np.zeros((len(test_df), 3))\n",
    "    test_Y = np.zeros((len(test_df),))\n",
    "    test_X[:, 0] = test_df['microbusiness_density-3']\n",
    "    test_X[:, 1] = test_df['microbusiness_density-2']\n",
    "    test_X[:, 2] = test_df['microbusiness_density-1']\n",
    "    test_Y[:] = test_df['microbusiness_density']\n",
    "    reg = GradientBoostingRegressor(n_estimators = 10).fit(X, Y)\n",
    "    print(reg.score(X, Y))\n",
    "    print(reg.score(test_X, test_Y))"
   ]
  },
  {
   "cell_type": "code",
   "execution_count": 241,
   "id": "25d8458b",
   "metadata": {},
   "outputs": [
    {
     "name": "stdout",
     "output_type": "stream",
     "text": [
      "0.9490150207627007\n",
      "0.8076974185143109\n"
     ]
    }
   ],
   "source": [
    "train_df=train_raw.groupby(['county', 'first_day_of_month']).first()\n",
    "train_mean = train_df['microbusiness_density'].mean()\n",
    "train_df['microbusiness_density-3'] = train_df['microbusiness_density'].shift(1, fill_value=train_mean)\n",
    "train_df['microbusiness_density-2'] = train_df['microbusiness_density'].shift(2, fill_value=train_mean)\n",
    "train_df['microbusiness_density-1'] = train_df['microbusiness_density'].shift(3, fill_value=train_mean)\n",
    "# c=set(train_raw.groupby(['county']).first().index)\n",
    "test_df=test_raw.groupby(['county', 'first_day_of_month']).first()\n",
    "test_mean = test_df['microbusiness_density'].mean()\n",
    "test_df['microbusiness_density-3'] = test_df['microbusiness_density'].shift(1, fill_value=test_mean)\n",
    "test_df['microbusiness_density-2'] = test_df['microbusiness_density'].shift(2, fill_value=test_mean)\n",
    "test_df['microbusiness_density-1'] = test_df['microbusiness_density'].shift(3, fill_value=test_mean)\n",
    "\n",
    "import numpy as np\n",
    "from sklearn.linear_model import LinearRegression\n",
    "X = np.zeros((62190, 3))\n",
    "Y = np.zeros((62190,))\n",
    "X[:, 0] = train_df['microbusiness_density-3']\n",
    "X[:, 1] = train_df['microbusiness_density-2']\n",
    "X[:, 2] = train_df['microbusiness_density-1']\n",
    "Y[:] = train_df['microbusiness_density']\n",
    "test_X = np.zeros((21229, 3))\n",
    "test_Y = np.zeros((21229,))\n",
    "test_X[:, 0] = test_df['microbusiness_density-3']\n",
    "test_X[:, 1] = test_df['microbusiness_density-2']\n",
    "test_X[:, 2] = test_df['microbusiness_density-1']\n",
    "test_Y[:] = test_df['microbusiness_density']\n",
    "reg = GradientBoostingRegressor(n_estimators = 30).fit(X, Y)\n",
    "print(reg.score(X, Y))\n",
    "print(reg.score(test_X, test_Y))"
   ]
  },
  {
   "cell_type": "code",
   "execution_count": null,
   "id": "972a7e10",
   "metadata": {},
   "outputs": [],
   "source": []
  },
  {
   "cell_type": "code",
   "execution_count": 227,
   "id": "f2048622",
   "metadata": {},
   "outputs": [
    {
     "data": {
      "text/plain": [
       "15546"
      ]
     },
     "execution_count": 227,
     "metadata": {},
     "output_type": "execute_result"
    }
   ],
   "source": [
    "sum(train_raw['county'].isin(clusters[4]))"
   ]
  },
  {
   "cell_type": "code",
   "execution_count": 171,
   "id": "9cc0b0b5",
   "metadata": {},
   "outputs": [
    {
     "name": "stdout",
     "output_type": "stream",
     "text": [
      "0.9841958289091283\n",
      "0.8087861628572404\n"
     ]
    }
   ],
   "source": [
    "import numpy as np\n",
    "from sklearn.linear_model import LinearRegression\n",
    "X = np.zeros((62190, 3))\n",
    "Y = np.zeros((62190,))\n",
    "X[:, 0] = train_df['microbusiness_density-3']\n",
    "X[:, 1] = train_df['microbusiness_density-2']\n",
    "X[:, 2] = train_df['microbusiness_density-1']\n",
    "Y[:] = train_df['microbusiness_density']\n",
    "test_X = np.zeros((21229, 3))\n",
    "test_Y = np.zeros((21229,))\n",
    "test_X[:, 0] = test_df['microbusiness_density-3']\n",
    "test_X[:, 1] = test_df['microbusiness_density-2']\n",
    "test_X[:, 2] = test_df['microbusiness_density-1']\n",
    "test_Y[:] = test_df['microbusiness_density']\n",
    "reg = GradientBoostingRegressor(n_estimators = 800).fit(X, Y)\n",
    "print(reg.score(X, Y))\n",
    "print(reg.score(test_X, test_Y))"
   ]
  },
  {
   "cell_type": "code",
   "execution_count": null,
   "id": "38ab2ca9",
   "metadata": {},
   "outputs": [],
   "source": []
  },
  {
   "cell_type": "code",
   "execution_count": 117,
   "id": "5a369bb8",
   "metadata": {},
   "outputs": [],
   "source": [
    "for i in range(0, 72969, 39):\n",
    "    a.loc[a.index[i+1:i+39]]['microbusiness_density-1'] = a.loc[a.index[i:i+38]]['microbusiness_density']"
   ]
  },
  {
   "cell_type": "code",
   "execution_count": 120,
   "id": "77c97eab",
   "metadata": {},
   "outputs": [
    {
     "data": {
      "text/plain": [
       "county            first_day_of_month\n",
       "Abbeville County  2019-08-01            1.335653\n",
       "                  2019-09-01            1.197482\n",
       "                  2019-10-01            1.258892\n",
       "                  2019-11-01            1.228187\n",
       "                  2019-12-01            1.217952\n",
       "                                          ...   \n",
       "Ziebach County    2022-06-01            0.354970\n",
       "                  2022-07-01            0.304260\n",
       "                  2022-08-01            0.304260\n",
       "                  2022-09-01            0.304260\n",
       "                  2022-10-01            0.304260\n",
       "Name: microbusiness_density-1, Length: 72969, dtype: float64"
      ]
     },
     "execution_count": 120,
     "metadata": {},
     "output_type": "execute_result"
    }
   ],
   "source": [
    "a['microbusiness_density-1']"
   ]
  },
  {
   "cell_type": "code",
   "execution_count": 23,
   "id": "5ad70a78",
   "metadata": {},
   "outputs": [
    {
     "ename": "KeyError",
     "evalue": "'Lassen County'",
     "output_type": "error",
     "traceback": [
      "\u001b[0;31m---------------------------------------------------------------------------\u001b[0m",
      "\u001b[0;31mKeyError\u001b[0m                                  Traceback (most recent call last)",
      "File \u001b[0;32m~/opt/anaconda3/lib/python3.9/site-packages/pandas/core/indexes/base.py:3621\u001b[0m, in \u001b[0;36mIndex.get_loc\u001b[0;34m(self, key, method, tolerance)\u001b[0m\n\u001b[1;32m   3620\u001b[0m \u001b[38;5;28;01mtry\u001b[39;00m:\n\u001b[0;32m-> 3621\u001b[0m     \u001b[38;5;28;01mreturn\u001b[39;00m \u001b[38;5;28;43mself\u001b[39;49m\u001b[38;5;241;43m.\u001b[39;49m\u001b[43m_engine\u001b[49m\u001b[38;5;241;43m.\u001b[39;49m\u001b[43mget_loc\u001b[49m\u001b[43m(\u001b[49m\u001b[43mcasted_key\u001b[49m\u001b[43m)\u001b[49m\n\u001b[1;32m   3622\u001b[0m \u001b[38;5;28;01mexcept\u001b[39;00m \u001b[38;5;167;01mKeyError\u001b[39;00m \u001b[38;5;28;01mas\u001b[39;00m err:\n",
      "File \u001b[0;32m~/opt/anaconda3/lib/python3.9/site-packages/pandas/_libs/index.pyx:136\u001b[0m, in \u001b[0;36mpandas._libs.index.IndexEngine.get_loc\u001b[0;34m()\u001b[0m\n",
      "File \u001b[0;32m~/opt/anaconda3/lib/python3.9/site-packages/pandas/_libs/index.pyx:163\u001b[0m, in \u001b[0;36mpandas._libs.index.IndexEngine.get_loc\u001b[0;34m()\u001b[0m\n",
      "File \u001b[0;32mpandas/_libs/hashtable_class_helper.pxi:5198\u001b[0m, in \u001b[0;36mpandas._libs.hashtable.PyObjectHashTable.get_item\u001b[0;34m()\u001b[0m\n",
      "File \u001b[0;32mpandas/_libs/hashtable_class_helper.pxi:5206\u001b[0m, in \u001b[0;36mpandas._libs.hashtable.PyObjectHashTable.get_item\u001b[0;34m()\u001b[0m\n",
      "\u001b[0;31mKeyError\u001b[0m: 'Lassen County'",
      "\nThe above exception was the direct cause of the following exception:\n",
      "\u001b[0;31mKeyError\u001b[0m                                  Traceback (most recent call last)",
      "Input \u001b[0;32mIn [23]\u001b[0m, in \u001b[0;36m<cell line: 3>\u001b[0;34m()\u001b[0m\n\u001b[1;32m      3\u001b[0m \u001b[38;5;28;01mfor\u001b[39;00m c \u001b[38;5;129;01min\u001b[39;00m counties:\n\u001b[1;32m      4\u001b[0m     county_statistics[c] \u001b[38;5;241m=\u001b[39m {}\n\u001b[0;32m----> 5\u001b[0m     mean \u001b[38;5;241m=\u001b[39m \u001b[43mtrain_raw\u001b[49m\u001b[43m[\u001b[49m\u001b[43mc\u001b[49m\u001b[43m]\u001b[49m\u001b[38;5;241m.\u001b[39mmean()\n\u001b[1;32m      6\u001b[0m     county_statistics[c][\u001b[38;5;124m'\u001b[39m\u001b[38;5;124mmean\u001b[39m\u001b[38;5;124m'\u001b[39m] \u001b[38;5;241m=\u001b[39m train_raw[c]\u001b[38;5;241m.\u001b[39mmean()\n\u001b[1;32m      7\u001b[0m     county_statistics[c][\u001b[38;5;124m'\u001b[39m\u001b[38;5;124mvar\u001b[39m\u001b[38;5;124m'\u001b[39m] \u001b[38;5;241m=\u001b[39m train_raw[c]\u001b[38;5;241m.\u001b[39mvar()\n",
      "File \u001b[0;32m~/opt/anaconda3/lib/python3.9/site-packages/pandas/core/frame.py:3505\u001b[0m, in \u001b[0;36mDataFrame.__getitem__\u001b[0;34m(self, key)\u001b[0m\n\u001b[1;32m   3503\u001b[0m \u001b[38;5;28;01mif\u001b[39;00m \u001b[38;5;28mself\u001b[39m\u001b[38;5;241m.\u001b[39mcolumns\u001b[38;5;241m.\u001b[39mnlevels \u001b[38;5;241m>\u001b[39m \u001b[38;5;241m1\u001b[39m:\n\u001b[1;32m   3504\u001b[0m     \u001b[38;5;28;01mreturn\u001b[39;00m \u001b[38;5;28mself\u001b[39m\u001b[38;5;241m.\u001b[39m_getitem_multilevel(key)\n\u001b[0;32m-> 3505\u001b[0m indexer \u001b[38;5;241m=\u001b[39m \u001b[38;5;28;43mself\u001b[39;49m\u001b[38;5;241;43m.\u001b[39;49m\u001b[43mcolumns\u001b[49m\u001b[38;5;241;43m.\u001b[39;49m\u001b[43mget_loc\u001b[49m\u001b[43m(\u001b[49m\u001b[43mkey\u001b[49m\u001b[43m)\u001b[49m\n\u001b[1;32m   3506\u001b[0m \u001b[38;5;28;01mif\u001b[39;00m is_integer(indexer):\n\u001b[1;32m   3507\u001b[0m     indexer \u001b[38;5;241m=\u001b[39m [indexer]\n",
      "File \u001b[0;32m~/opt/anaconda3/lib/python3.9/site-packages/pandas/core/indexes/base.py:3623\u001b[0m, in \u001b[0;36mIndex.get_loc\u001b[0;34m(self, key, method, tolerance)\u001b[0m\n\u001b[1;32m   3621\u001b[0m     \u001b[38;5;28;01mreturn\u001b[39;00m \u001b[38;5;28mself\u001b[39m\u001b[38;5;241m.\u001b[39m_engine\u001b[38;5;241m.\u001b[39mget_loc(casted_key)\n\u001b[1;32m   3622\u001b[0m \u001b[38;5;28;01mexcept\u001b[39;00m \u001b[38;5;167;01mKeyError\u001b[39;00m \u001b[38;5;28;01mas\u001b[39;00m err:\n\u001b[0;32m-> 3623\u001b[0m     \u001b[38;5;28;01mraise\u001b[39;00m \u001b[38;5;167;01mKeyError\u001b[39;00m(key) \u001b[38;5;28;01mfrom\u001b[39;00m \u001b[38;5;21;01merr\u001b[39;00m\n\u001b[1;32m   3624\u001b[0m \u001b[38;5;28;01mexcept\u001b[39;00m \u001b[38;5;167;01mTypeError\u001b[39;00m:\n\u001b[1;32m   3625\u001b[0m     \u001b[38;5;66;03m# If we have a listlike key, _check_indexing_error will raise\u001b[39;00m\n\u001b[1;32m   3626\u001b[0m     \u001b[38;5;66;03m#  InvalidIndexError. Otherwise we fall through and re-raise\u001b[39;00m\n\u001b[1;32m   3627\u001b[0m     \u001b[38;5;66;03m#  the TypeError.\u001b[39;00m\n\u001b[1;32m   3628\u001b[0m     \u001b[38;5;28mself\u001b[39m\u001b[38;5;241m.\u001b[39m_check_indexing_error(key)\n",
      "\u001b[0;31mKeyError\u001b[0m: 'Lassen County'"
     ]
    }
   ],
   "source": [
    "counties = set(train_raw['county'])\n",
    "county_statistics = {}\n",
    "for c in counties:\n",
    "    county_statistics[c] = {}\n",
    "    mean = train_raw[c].mean()\n",
    "    county_statistics[c]['mean'] = mean\n",
    "    county_statistics[c]['var'] = train_raw[c].var()\n",
    "    p95 = train_raw[c].quantile(0.95)\n",
    "    p05 = train_raw[c].quantile(0.05)\n",
    "    county_statistics[c]['p95'] = p95\n",
    "    county_statistics[c]['p05'] = p05\n",
    "    county_statistics[c]['p75'] = (train_raw[c].quantile(0.75) - mean)/ (p95 - mean)\n",
    "    county_statistics[c]['p25'] = (mean - train_raw[c].quantile(0.25))/ (mean - p05)\n",
    "new_knn_all_data = "
   ]
  },
  {
   "cell_type": "code",
   "execution_count": 17,
   "id": "0fdfe29e",
   "metadata": {},
   "outputs": [
    {
     "name": "stderr",
     "output_type": "stream",
     "text": [
      "/var/folders/sz/96l2wmtn19l4dg18frjfvmfm0000gn/T/ipykernel_9161/3301010539.py:15: FutureWarning: Dropping of nuisance columns in DataFrame reductions (with 'numeric_only=None') is deprecated; in a future version this will raise TypeError.  Select only valid columns before calling the reduction.\n",
      "  df = df.fillna(df.median())\n"
     ]
    }
   ],
   "source": [
    "from sklearn.neighbors import KNeighborsRegressor\n",
    "knn_train = pd.merge(left = train_raw, right = census_raw, how = 'left')\n",
    "knn_test = pd.merge(left = test_raw, right = census_raw, how = 'left')\n",
    "knn_all_data = pd.concat([knn_train, knn_test])\n",
    "knn_all_data = knn_all_data.drop(['row_id'], axis = 1)\n",
    "knn_all_data = knn_all_data.drop(['first_day_of_month'], axis = 1)\n",
    "knn_all_data = fill_na(knn_all_data)\n",
    "knn_all_data = one_hot(knn_all_data)\n",
    "NUM_TRAIN = round(len(knn_all_data)*0.8)\n",
    "knn_train = knn_all_data[:NUM_TRAIN]\n",
    "knn_test = knn_all_data[NUM_TRAIN:]\n",
    "\n",
    "X_knn_train = knn_train.drop(['microbusiness_density'], axis = 1)\n",
    "y_knn_train = knn_train['microbusiness_density']\n",
    "X_knn_test = knn_test.drop(['microbusiness_density'], axis = 1)\n",
    "y_knn_test = knn_test['microbusiness_density']"
   ]
  },
  {
   "cell_type": "code",
   "execution_count": null,
   "id": "e27c29ea",
   "metadata": {},
   "outputs": [],
   "source": [
    "knn_"
   ]
  },
  {
   "cell_type": "code",
   "execution_count": 18,
   "id": "432009cf",
   "metadata": {},
   "outputs": [
    {
     "data": {
      "text/plain": [
       "-4.939347827427617"
      ]
     },
     "execution_count": 18,
     "metadata": {},
     "output_type": "execute_result"
    }
   ],
   "source": [
    "knn = KNeighborsRegressor(n_neighbors=3)\n",
    "knn.fit(X_knn_train, y_knn_train)\n",
    "knn.score(X_knn_test,y_knn_test)"
   ]
  },
  {
   "cell_type": "code",
   "execution_count": null,
   "id": "cb84dff4",
   "metadata": {},
   "outputs": [],
   "source": []
  }
 ],
 "metadata": {
  "kernelspec": {
   "display_name": "Python 3 (ipykernel)",
   "language": "python",
   "name": "python3"
  },
  "language_info": {
   "codemirror_mode": {
    "name": "ipython",
    "version": 3
   },
   "file_extension": ".py",
   "mimetype": "text/x-python",
   "name": "python",
   "nbconvert_exporter": "python",
   "pygments_lexer": "ipython3",
   "version": "3.9.12"
  }
 },
 "nbformat": 4,
 "nbformat_minor": 5
}
