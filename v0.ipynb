{
 "cells": [
  {
   "cell_type": "code",
   "execution_count": 42,
   "id": "a9792f73",
   "metadata": {},
   "outputs": [],
   "source": [
    "import pandas as pd\n",
    "import numpy as np\n",
    "import matplotlib.pyplot as plt\n",
    "from sklearn.metrics import roc_auc_score, roc_curve, auc\n",
    "from sklearn.model_selection import cross_val_score, KFold\n",
    "from sklearn.model_selection import train_test_split\n",
    "from sklearn.ensemble import GradientBoostingRegressor\n",
    "from xgboost import XGBClassifier"
   ]
  },
  {
   "cell_type": "markdown",
   "id": "4656afe4",
   "metadata": {},
   "source": [
    "## Constants"
   ]
  },
  {
   "cell_type": "code",
   "execution_count": 43,
   "id": "2894b463",
   "metadata": {},
   "outputs": [],
   "source": [
    "TRAIN_FILE = 'data/train.csv'\n",
    "TEST_FILE = 'data/test.csv'\n",
    "REVEALED_TEST_FILE = 'data/revealed_test.csv'\n",
    "CENSUS_FILE = 'data/census_starter.csv'"
   ]
  },
  {
   "cell_type": "markdown",
   "id": "55846d97",
   "metadata": {},
   "source": [
    "## Utilities"
   ]
  },
  {
   "cell_type": "code",
   "execution_count": 44,
   "id": "e16c3678",
   "metadata": {},
   "outputs": [],
   "source": [
    "def load_data(file_path):\n",
    "    df = pd.read_csv(file_path)\n",
    "    return df\n",
    "\n",
    "def one_hot(df):\n",
    "    columnsToEncode = list(df.select_dtypes(include=['category','object']))\n",
    "    for each in columnsToEncode:\n",
    "        df=pd.concat([df,pd.get_dummies(df[each],prefix=each, drop_first=True)],axis=1).drop([each],axis=1)\n",
    "    return df\n",
    "\n",
    "def fill_na(df):\n",
    "    columnsToEncode = list(df.select_dtypes(include=['category','object']))\n",
    "    for each in columnsToEncode:\n",
    "        df[each] = df[each].fillna(df[each].mode().iloc[0])\n",
    "    df = df.fillna(df.median())\n",
    "    return df"
   ]
  },
  {
   "cell_type": "markdown",
   "id": "3b6a814f",
   "metadata": {},
   "source": [
    "## Load Data"
   ]
  },
  {
   "cell_type": "code",
   "execution_count": 45,
   "id": "53829990",
   "metadata": {
    "scrolled": true
   },
   "outputs": [],
   "source": [
    "train_raw = load_data(TRAIN_FILE)\n",
    "test_raw = load_data(REVEALED_TEST_FILE)\n",
    "census_raw = load_data(CENSUS_FILE)"
   ]
  },
  {
   "cell_type": "code",
   "execution_count": 46,
   "id": "b3e4765d",
   "metadata": {},
   "outputs": [],
   "source": [
    "train = pd.merge(left = train_raw, right = census_raw, how = 'left')\n",
    "test = pd.merge(left = test_raw, right = census_raw, how = 'left')\n",
    "all_data = pd.concat([train, test])"
   ]
  },
  {
   "cell_type": "markdown",
   "id": "93344553",
   "metadata": {},
   "source": [
    "## Data Cleaning"
   ]
  },
  {
   "cell_type": "code",
   "execution_count": 47,
   "id": "f0c396d6",
   "metadata": {},
   "outputs": [],
   "source": [
    "all_data = all_data.drop(['row_id'], axis = 1)\n",
    "# all_data = all_data.drop(['first_day_of_month'], axis = 1)"
   ]
  },
  {
   "cell_type": "markdown",
   "id": "fd79f881",
   "metadata": {},
   "source": [
    "## Feature Engineering"
   ]
  },
  {
   "cell_type": "code",
   "execution_count": 48,
   "id": "e4148923",
   "metadata": {},
   "outputs": [],
   "source": [
    "NUM_TRAIN = round(len(all_data)*0.8)"
   ]
  },
  {
   "cell_type": "code",
   "execution_count": 49,
   "id": "f075de49",
   "metadata": {},
   "outputs": [
    {
     "name": "stderr",
     "output_type": "stream",
     "text": [
      "/var/folders/sz/96l2wmtn19l4dg18frjfvmfm0000gn/T/ipykernel_36856/3301010539.py:15: FutureWarning: Dropping of nuisance columns in DataFrame reductions (with 'numeric_only=None') is deprecated; in a future version this will raise TypeError.  Select only valid columns before calling the reduction.\n",
      "  df = df.fillna(df.median())\n"
     ]
    }
   ],
   "source": [
    "# One hot and imputation\n",
    "all_data = fill_na(all_data)\n",
    "all_data = one_hot(all_data)\n",
    "all_data = all_data[~all_data.isin([np.nan, np.inf, -np.inf]).any(1)]\n",
    "\n",
    "train = all_data[:NUM_TRAIN]\n",
    "test = all_data[NUM_TRAIN:]"
   ]
  },
  {
   "cell_type": "code",
   "execution_count": 50,
   "id": "3a16dc35",
   "metadata": {},
   "outputs": [],
   "source": [
    "X_train = train.drop(['microbusiness_density'], axis = 1)\n",
    "y_train = train['microbusiness_density']\n",
    "X_test = test.drop(['microbusiness_density'], axis = 1)\n",
    "y_test = test['microbusiness_density']"
   ]
  },
  {
   "cell_type": "markdown",
   "id": "d981c835",
   "metadata": {},
   "source": [
    "# Try different base models"
   ]
  },
  {
   "cell_type": "markdown",
   "id": "b0439641",
   "metadata": {},
   "source": [
    "## Linear Regression"
   ]
  },
  {
   "cell_type": "code",
   "execution_count": 51,
   "id": "65f31c0c",
   "metadata": {},
   "outputs": [
    {
     "name": "stdout",
     "output_type": "stream",
     "text": [
      "                              OLS Regression Results                             \n",
      "=================================================================================\n",
      "Dep. Variable:     microbusiness_density   R-squared:                       0.293\n",
      "Model:                               OLS   Adj. R-squared:                  0.292\n",
      "Method:                    Least Squares   F-statistic:                     1575.\n",
      "Date:                   Mon, 13 Mar 2023   Prob (F-statistic):               0.00\n",
      "Time:                           01:13:25   Log-Likelihood:            -2.9237e+05\n",
      "No. Observations:                 102828   AIC:                         5.848e+05\n",
      "Df Residuals:                     102800   BIC:                         5.851e+05\n",
      "Df Model:                             27                                         \n",
      "Covariance Type:               nonrobust                                         \n",
      "=========================================================================================\n",
      "                            coef    std err          t      P>|t|      [0.025      0.975]\n",
      "-----------------------------------------------------------------------------------------\n",
      "Intercept                -3.2064      0.155    -20.645      0.000      -3.511      -2.902\n",
      "cfips                 -1.394e-05      1e-06    -13.903      0.000   -1.59e-05    -1.2e-05\n",
      "active                 2.308e-05   4.24e-07     54.385      0.000    2.22e-05    2.39e-05\n",
      "pct_bb_2017               0.0586      0.008      7.692      0.000       0.044       0.074\n",
      "pct_bb_2018               0.0253      0.012      2.168      0.030       0.002       0.048\n",
      "pct_bb_2019              -0.0439      0.011     -4.112      0.000      -0.065      -0.023\n",
      "pct_bb_2020              -0.0266      0.010     -2.700      0.007      -0.046      -0.007\n",
      "pct_bb_2021               0.0255      0.008      3.193      0.001       0.010       0.041\n",
      "pct_college_2017          0.1377      0.014      9.540      0.000       0.109       0.166\n",
      "pct_college_2018          0.0270      0.020      1.351      0.177      -0.012       0.066\n",
      "pct_college_2019          0.0276      0.018      1.571      0.116      -0.007       0.062\n",
      "pct_college_2020         -0.1007      0.015     -6.701      0.000      -0.130      -0.071\n",
      "pct_college_2021          0.2178      0.012     17.483      0.000       0.193       0.242\n",
      "pct_foreign_born_2017     0.0834      0.024      3.457      0.001       0.036       0.131\n",
      "pct_foreign_born_2018     0.1102      0.035      3.169      0.002       0.042       0.178\n",
      "pct_foreign_born_2019    -0.4345      0.028    -15.636      0.000      -0.489      -0.380\n",
      "pct_foreign_born_2020     0.4493      0.025     18.006      0.000       0.400       0.498\n",
      "pct_foreign_born_2021    -0.1436      0.020     -7.151      0.000      -0.183      -0.104\n",
      "pct_it_workers_2017       0.0671      0.029      2.284      0.022       0.010       0.125\n",
      "pct_it_workers_2018       0.2975      0.042      7.112      0.000       0.216       0.380\n",
      "pct_it_workers_2019      -0.5361      0.040    -13.489      0.000      -0.614      -0.458\n",
      "pct_it_workers_2020       0.4177      0.034     12.283      0.000       0.351       0.484\n",
      "pct_it_workers_2021      -0.0344      0.029     -1.200      0.230      -0.091       0.022\n",
      "median_hh_inc_2017       -0.0001   7.36e-06    -13.591      0.000      -0.000   -8.56e-05\n",
      "median_hh_inc_2018      5.65e-06   9.81e-06      0.576      0.565   -1.36e-05    2.49e-05\n",
      "median_hh_inc_2019      5.46e-06    8.5e-06      0.643      0.520   -1.12e-05    2.21e-05\n",
      "median_hh_inc_2020     9.635e-06   7.36e-06      1.309      0.191    -4.8e-06    2.41e-05\n",
      "median_hh_inc_2021     5.923e-05   5.81e-06     10.194      0.000    4.78e-05    7.06e-05\n",
      "==============================================================================\n",
      "Omnibus:                   252347.413   Durbin-Watson:                   0.248\n",
      "Prob(Omnibus):                  0.000   Jarque-Bera (JB):       5881800674.502\n",
      "Skew:                          26.023   Prob(JB):                         0.00\n",
      "Kurtosis:                    1173.513   Cond. No.                     1.51e+06\n",
      "==============================================================================\n",
      "\n",
      "Notes:\n",
      "[1] Standard Errors assume that the covariance matrix of the errors is correctly specified.\n",
      "[2] The condition number is large, 1.51e+06. This might indicate that there are\n",
      "strong multicollinearity or other numerical problems.\n"
     ]
    }
   ],
   "source": [
    "import statsmodels.formula.api as smf #same functionality as R's lm\n",
    "reg_setup_1=smf.ols(formula='microbusiness_density ~ cfips + active + pct_bb_2017 + pct_bb_2018 + pct_bb_2019 + pct_bb_2020 + pct_bb_2021 + pct_college_2017 + pct_college_2018 + pct_college_2019 + pct_college_2020 + pct_college_2021 + pct_foreign_born_2017 + pct_foreign_born_2018 + pct_foreign_born_2019 + pct_foreign_born_2020 + pct_foreign_born_2021 + pct_it_workers_2017 + pct_it_workers_2018 + pct_it_workers_2019 + pct_it_workers_2020 + pct_it_workers_2021 + median_hh_inc_2017 + median_hh_inc_2018 + median_hh_inc_2019 + median_hh_inc_2020 + median_hh_inc_2021', data=train)\n",
    "model_1=reg_setup_1.fit()\n",
    "print(model_1.summary())"
   ]
  },
  {
   "cell_type": "markdown",
   "id": "4e44e1e0",
   "metadata": {},
   "source": [
    "## Random Forest"
   ]
  },
  {
   "cell_type": "code",
   "execution_count": 54,
   "id": "1fda1bc3",
   "metadata": {},
   "outputs": [
    {
     "data": {
      "text/plain": [
       "0.510002154553909"
      ]
     },
     "execution_count": 54,
     "metadata": {},
     "output_type": "execute_result"
    }
   ],
   "source": [
    "from sklearn.ensemble import RandomForestRegressor\n",
    "randomforest = RandomForestRegressor(max_depth=10)\n",
    "randomforest.fit(X_train, y_train)\n",
    "randomforest_predictions = randomforest.predict(X_test)\n",
    "randomforest.score(X_test, y_test)"
   ]
  },
  {
   "cell_type": "markdown",
   "id": "c11ec97e",
   "metadata": {},
   "source": [
    "## XGBoost"
   ]
  },
  {
   "cell_type": "code",
   "execution_count": 55,
   "id": "c7721db1",
   "metadata": {},
   "outputs": [
    {
     "data": {
      "text/plain": [
       "0.3596705882917912"
      ]
     },
     "execution_count": 55,
     "metadata": {},
     "output_type": "execute_result"
    }
   ],
   "source": [
    "from xgboost.sklearn import XGBRegressor\n",
    "xgboost = XGBRegressor()\n",
    "xgboost.fit(X_train, y_train)\n",
    "xgboost.score(X_test, y_test)"
   ]
  },
  {
   "cell_type": "markdown",
   "id": "a4a0ad64",
   "metadata": {},
   "source": [
    "## GBM"
   ]
  },
  {
   "cell_type": "code",
   "execution_count": 56,
   "id": "2ce098df",
   "metadata": {},
   "outputs": [
    {
     "data": {
      "text/plain": [
       "0.5149709427626208"
      ]
     },
     "execution_count": 56,
     "metadata": {},
     "output_type": "execute_result"
    }
   ],
   "source": [
    "gradient_booster = GradientBoostingRegressor(n_estimators = 800)\n",
    "gradient_booster.fit(X_train, y_train)\n",
    "test_predictions = gradient_booster.predict(X_test)\n",
    "gradient_booster.score(X_test, y_test)"
   ]
  },
  {
   "cell_type": "markdown",
   "id": "a22dc633",
   "metadata": {},
   "source": [
    "# Tune best model"
   ]
  },
  {
   "cell_type": "code",
   "execution_count": null,
   "id": "1db70aad",
   "metadata": {},
   "outputs": [
    {
     "name": "stdout",
     "output_type": "stream",
     "text": [
      "Finished for n:  100  and m:  3 with auc:  -12.666262153123222\n",
      "Finished for n:  100  and m:  4 with auc:  -10.764196031112867\n",
      "Finished for n:  100  and m:  5 with auc:  -9.131694693527441\n",
      "Finished for n:  100  and m:  6 with auc:  -7.949267596756333\n",
      "Finished for n:  200  and m:  3 with auc:  -8.851354927353258\n",
      "Finished for n:  200  and m:  4 with auc:  -6.78975550106081\n",
      "Finished for n:  200  and m:  5 with auc:  -4.987894637911757\n",
      "Finished for n:  200  and m:  6 with auc:  -3.8660882202140114\n",
      "Finished for n:  300  and m:  3 with auc:  -7.231156589466001\n",
      "Finished for n:  300  and m:  4 with auc:  -5.251301067265561\n",
      "Finished for n:  300  and m:  5 with auc:  -3.7029061661040217\n",
      "Finished for n:  300  and m:  6 with auc:  -2.633285544026506\n",
      "Finished for n:  400  and m:  3 with auc:  -6.419284614912161\n",
      "Finished for n:  400  and m:  4 with auc:  -4.472633719702337\n",
      "Finished for n:  400  and m:  5 with auc:  -3.071649776528384\n",
      "Finished for n:  400  and m:  6 with auc:  -2.147979327748996\n",
      "Finished for n:  500  and m:  3 with auc:  -5.805065617844774\n",
      "Finished for n:  500  and m:  4 with auc:  -4.105704523932153\n",
      "Finished for n:  500  and m:  5 with auc:  -2.723350252588666\n",
      "Finished for n:  500  and m:  6 with auc:  -1.8734362284434152\n",
      "Finished for n:  600  and m:  3 with auc:  -5.544782357114798\n",
      "Finished for n:  600  and m:  4 with auc:  -3.7620628206297653\n",
      "Finished for n:  600  and m:  5 with auc:  -2.53944299456616\n"
     ]
    }
   ],
   "source": [
    "# For hypermparameter tuning only, comment out for output\n",
    "from sklearn.model_selection import KFold\n",
    "cv = KFold(n_splits=3, random_state=1, shuffle=True)\n",
    "\n",
    "X = all_data.drop(['microbusiness_density'],axis=1)\n",
    "y = all_data['microbusiness_density']\n",
    "\n",
    "n_estimators = np.arange(100, 2000, 100)\n",
    "max_depths = np.arange(3, 7)\n",
    "max_n = 0\n",
    "max_m = 0\n",
    "#max_s = 0\n",
    "max_accuracy = 0\n",
    "for n in n_estimators:\n",
    "    for m in max_depths:\n",
    "        gradient_booster_tuned = GradientBoostingRegressor(n_estimators=n, max_depth=m, subsample=0.8, learning_rate=0.01, )\n",
    "        #gradient_booster.fit(X_train, y_train)\n",
    "        scores = cross_val_score(gradient_booster_tuned, X, y, scoring='neg_mean_squared_error', cv=cv, n_jobs=-1)\n",
    "        mock_accuracy = np.mean(scores)\n",
    "        #mock_auc = roc_auc_score(y_test, test_predictions)\n",
    "        if mock_accuracy > max_accuracy:\n",
    "            max_accuracy=mock_accuracy\n",
    "            max_n = n\n",
    "            max_m = m\n",
    "        print(\"Finished for n: \", n, \" and m: \", m, \"with auc: \", mock_accuracy)\n",
    "print(\"max auc: \", max_accuracy, \"n: \", n, \" m: \", m)\n"
   ]
  },
  {
   "cell_type": "markdown",
   "id": "72e63304",
   "metadata": {},
   "source": [
    "# 5-NN"
   ]
  },
  {
   "cell_type": "markdown",
   "id": "0cd1db1c",
   "metadata": {},
   "source": [
    "You will probably need to regularize the data for KNN"
   ]
  },
  {
   "cell_type": "code",
   "execution_count": null,
   "id": "be4bad60",
   "metadata": {},
   "outputs": [],
   "source": []
  }
 ],
 "metadata": {
  "kernelspec": {
   "display_name": "Python 3 (ipykernel)",
   "language": "python",
   "name": "python3"
  },
  "language_info": {
   "codemirror_mode": {
    "name": "ipython",
    "version": 3
   },
   "file_extension": ".py",
   "mimetype": "text/x-python",
   "name": "python",
   "nbconvert_exporter": "python",
   "pygments_lexer": "ipython3",
   "version": "3.9.12"
  }
 },
 "nbformat": 4,
 "nbformat_minor": 5
}
