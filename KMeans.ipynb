{
 "cells": [
  {
   "cell_type": "code",
   "execution_count": 2,
   "id": "76e295d2",
   "metadata": {},
   "outputs": [],
   "source": [
    "import pandas as pd\n",
    "import numpy as np\n",
    "import matplotlib.pyplot as plt\n",
    "from sklearn.metrics import roc_auc_score, roc_curve, auc\n",
    "from sklearn.model_selection import cross_val_score, KFold\n",
    "from sklearn.model_selection import train_test_split\n",
    "from sklearn.ensemble import GradientBoostingRegressor\n",
    "from xgboost import XGBClassifier"
   ]
  },
  {
   "cell_type": "code",
   "execution_count": 1,
   "id": "c053c3f4",
   "metadata": {},
   "outputs": [],
   "source": [
    "from k_means_constrained import KMeansConstrained"
   ]
  },
  {
   "cell_type": "code",
   "execution_count": 3,
   "id": "95f13f2a",
   "metadata": {},
   "outputs": [],
   "source": [
    "TRAIN_FILE = 'data/train.csv'\n",
    "TEST_FILE = 'data/test.csv'\n",
    "REVEALED_TEST_FILE = 'data/revealed_test.csv'\n",
    "CENSUS_FILE = 'data/census_starter.csv'"
   ]
  },
  {
   "cell_type": "code",
   "execution_count": 4,
   "id": "1f44e8d6",
   "metadata": {},
   "outputs": [],
   "source": [
    "def load_data(file_path):\n",
    "    df = pd.read_csv(file_path)\n",
    "    return df\n",
    "\n",
    "def one_hot(df):\n",
    "    columnsToEncode = list(df.select_dtypes(include=['category','object']))\n",
    "    for each in columnsToEncode:\n",
    "        df=pd.concat([df,pd.get_dummies(df[each],prefix=each, drop_first=True)],axis=1).drop([each],axis=1)\n",
    "    return df\n",
    "\n",
    "def fill_na(df):\n",
    "    columnsToEncode = list(df.select_dtypes(include=['category','object']))\n",
    "    for each in columnsToEncode:\n",
    "        df[each] = df[each].fillna(df[each].mode().iloc[0])\n",
    "    df = df.fillna(df.median())\n",
    "    return df"
   ]
  },
  {
   "cell_type": "code",
   "execution_count": 5,
   "id": "ca29ca62",
   "metadata": {},
   "outputs": [],
   "source": [
    "train_raw = load_data(TRAIN_FILE)\n",
    "test_raw = load_data(REVEALED_TEST_FILE)\n",
    "census_raw = load_data(CENSUS_FILE)\n",
    "all_data = pd.concat([train_raw, test_raw])\n",
    "NUM_TRAIN = round(len(all_data)*0.8)\n",
    "train_raw = all_data[:NUM_TRAIN]\n",
    "test_raw = all_data[NUM_TRAIN:]"
   ]
  },
  {
   "cell_type": "code",
   "execution_count": null,
   "id": "1ade9c96",
   "metadata": {},
   "outputs": [],
   "source": []
  },
  {
   "cell_type": "code",
   "execution_count": null,
   "id": "7527174e",
   "metadata": {},
   "outputs": [],
   "source": []
  },
  {
   "cell_type": "code",
   "execution_count": 65,
   "id": "2b9c8cd1",
   "metadata": {
    "scrolled": true
   },
   "outputs": [
    {
     "name": "stdout",
     "output_type": "stream",
     "text": [
      "0.8332268554287449\n",
      "0.8739149866795863\n",
      "0.6822359004625325\n",
      "0.8434088950425229\n",
      "0.7164478081829684\n",
      "0.8101603622189846\n",
      "0.8452001259282951\n",
      "0.31625315096672313\n",
      "0.8852422748009363\n",
      "0.732761132961858\n"
     ]
    }
   ],
   "source": [
    "census_raw = pd.merge(left = all_data, right = census_raw, how = 'left')\n",
    "census_raw = census_raw.drop(['row_id', 'first_day_of_month', 'microbusiness_density', 'active', 'state'], axis = 1).groupby(['county']).first()\n",
    "census_raw = census_raw.fillna(0)\n",
    "from sklearn.cluster import KMeans\n",
    "N_CLUSTERS = 9\n",
    "kmeans = KMeans(n_clusters=N_CLUSTERS).fit_predict(census_raw)\n",
    "kmeans = KMeansConstrained(\n",
    "  n_clusters=N_CLUSTERS,\n",
    "  size_min=100).fit_predict(census_raw)\n",
    "clusters = []\n",
    "total_counties = 0\n",
    "for cluster in range(N_CLUSTERS):\n",
    "    clusters += [list(census_raw.index[np.where(kmeans == cluster)])]\n",
    "    total_counties += len(clusters[-1])\n",
    "avg = 0\n",
    "for cluster in clusters:\n",
    "    train_df = train_raw[train_raw['county'].isin(cluster)]\n",
    "    train_df=train_df.groupby(['county', 'first_day_of_month']).first()\n",
    "    train_mean = train_df['microbusiness_density'].mean()\n",
    "    train_df['microbusiness_density-3'] = train_df['microbusiness_density'].shift(1, fill_value=train_mean)\n",
    "    train_df['microbusiness_density-2'] = train_df['microbusiness_density'].shift(2, fill_value=train_mean)\n",
    "    train_df['microbusiness_density-1'] = train_df['microbusiness_density'].shift(3, fill_value=train_mean)\n",
    "\n",
    "    test_df = test_raw[test_raw['county'].isin(cluster)]\n",
    "    test_df=test_df.groupby(['county', 'first_day_of_month']).first()\n",
    "    test_mean = test_df['microbusiness_density'].mean()\n",
    "    test_df['microbusiness_density-3'] = test_df['microbusiness_density'].shift(1, fill_value=test_mean)\n",
    "    test_df['microbusiness_density-2'] = test_df['microbusiness_density'].shift(2, fill_value=test_mean)\n",
    "    test_df['microbusiness_density-1'] = test_df['microbusiness_density'].shift(3, fill_value=test_mean)\n",
    "\n",
    "    import numpy as np\n",
    "    from sklearn.linear_model import LinearRegression\n",
    "    X = np.zeros((len(train_df), 3))\n",
    "    Y = np.zeros((len(train_df),))\n",
    "    X[:, 0] = train_df['microbusiness_density-3']\n",
    "    X[:, 1] = train_df['microbusiness_density-2']\n",
    "    X[:, 2] = train_df['microbusiness_density-1']\n",
    "    Y[:] = train_df['microbusiness_density']\n",
    "    test_X = np.zeros((len(test_df), 3))\n",
    "    test_Y = np.zeros((len(test_df),))\n",
    "    test_X[:, 0] = test_df['microbusiness_density-3']\n",
    "    test_X[:, 1] = test_df['microbusiness_density-2']\n",
    "    test_X[:, 2] = test_df['microbusiness_density-1']\n",
    "    test_Y[:] = test_df['microbusiness_density']\n",
    "    reg = LinearRegression().fit(X,Y)\n",
    "#     reg = GradientBoostingRegressor(n_estimators = 50).fit(X, Y)\n",
    "    print(reg.score(test_X, test_Y))\n",
    "    avg += reg.score(test_X, test_Y) * (len(cluster)) * (1./total_counties)\n",
    "print(avg)"
   ]
  },
  {
   "cell_type": "code",
   "execution_count": 64,
   "id": "bf41c411",
   "metadata": {},
   "outputs": [
    {
     "name": "stdout",
     "output_type": "stream",
     "text": [
      "288\n",
      "109\n",
      "144\n",
      "249\n",
      "241\n",
      "100\n",
      "322\n",
      "183\n",
      "235\n"
     ]
    },
    {
     "data": {
      "text/plain": [
       "[None, None, None, None, None, None, None, None, None]"
      ]
     },
     "execution_count": 64,
     "metadata": {},
     "output_type": "execute_result"
    }
   ],
   "source": [
    "[print(len(i)) for i in clusters]"
   ]
  },
  {
   "cell_type": "code",
   "execution_count": 60,
   "id": "25d8458b",
   "metadata": {},
   "outputs": [
    {
     "name": "stdout",
     "output_type": "stream",
     "text": [
      "0.9590606056460668\n",
      "0.8155131328637278\n"
     ]
    }
   ],
   "source": [
    "train_df=train_raw.groupby(['county', 'first_day_of_month']).first()\n",
    "train_mean = train_df['microbusiness_density'].mean()\n",
    "train_df['microbusiness_density-3'] = train_df['microbusiness_density'].shift(1, fill_value=train_mean)\n",
    "train_df['microbusiness_density-2'] = train_df['microbusiness_density'].shift(2, fill_value=train_mean)\n",
    "train_df['microbusiness_density-1'] = train_df['microbusiness_density'].shift(3, fill_value=train_mean)\n",
    "# c=set(train_raw.groupby(['county']).first().index)\n",
    "test_df=test_raw.groupby(['county', 'first_day_of_month']).first()\n",
    "test_mean = test_df['microbusiness_density'].mean()\n",
    "test_df['microbusiness_density-3'] = test_df['microbusiness_density'].shift(1, fill_value=test_mean)\n",
    "test_df['microbusiness_density-2'] = test_df['microbusiness_density'].shift(2, fill_value=test_mean)\n",
    "test_df['microbusiness_density-1'] = test_df['microbusiness_density'].shift(3, fill_value=test_mean)\n",
    "\n",
    "import numpy as np\n",
    "from sklearn.linear_model import LinearRegression\n",
    "X = np.zeros((62190, 3))\n",
    "Y = np.zeros((62190,))\n",
    "X[:, 0] = train_df['microbusiness_density-3']\n",
    "X[:, 1] = train_df['microbusiness_density-2']\n",
    "X[:, 2] = train_df['microbusiness_density-1']\n",
    "Y[:] = train_df['microbusiness_density']\n",
    "test_X = np.zeros((21229, 3))\n",
    "test_Y = np.zeros((21229,))\n",
    "test_X[:, 0] = test_df['microbusiness_density-3']\n",
    "test_X[:, 1] = test_df['microbusiness_density-2']\n",
    "test_X[:, 2] = test_df['microbusiness_density-1']\n",
    "test_Y[:] = test_df['microbusiness_density']\n",
    "# reg = LinearRegression().fit(X,Y)\n",
    "reg = GradientBoostingRegressor(n_estimators = 50).fit(X, Y)\n",
    "print(reg.score(X, Y))\n",
    "print(reg.score(test_X, test_Y))"
   ]
  },
  {
   "cell_type": "code",
   "execution_count": null,
   "id": "972a7e10",
   "metadata": {},
   "outputs": [],
   "source": []
  },
  {
   "cell_type": "code",
   "execution_count": 30,
   "id": "f2048622",
   "metadata": {},
   "outputs": [
    {
     "data": {
      "text/plain": [
       "400"
      ]
     },
     "execution_count": 30,
     "metadata": {},
     "output_type": "execute_result"
    }
   ],
   "source": [
    "len(clusters[0])"
   ]
  },
  {
   "cell_type": "code",
   "execution_count": 171,
   "id": "9cc0b0b5",
   "metadata": {},
   "outputs": [
    {
     "name": "stdout",
     "output_type": "stream",
     "text": [
      "0.9841958289091283\n",
      "0.8087861628572404\n"
     ]
    }
   ],
   "source": [
    "import numpy as np\n",
    "from sklearn.linear_model import LinearRegression\n",
    "X = np.zeros((62190, 3))\n",
    "Y = np.zeros((62190,))\n",
    "X[:, 0] = train_df['microbusiness_density-3']\n",
    "X[:, 1] = train_df['microbusiness_density-2']\n",
    "X[:, 2] = train_df['microbusiness_density-1']\n",
    "Y[:] = train_df['microbusiness_density']\n",
    "test_X = np.zeros((21229, 3))\n",
    "test_Y = np.zeros((21229,))\n",
    "test_X[:, 0] = test_df['microbusiness_density-3']\n",
    "test_X[:, 1] = test_df['microbusiness_density-2']\n",
    "test_X[:, 2] = test_df['microbusiness_density-1']\n",
    "test_Y[:] = test_df['microbusiness_density']\n",
    "reg = GradientBoostingRegressor(n_estimators = 800).fit(X, Y)\n",
    "print(reg.score(X, Y))\n",
    "print(reg.score(test_X, test_Y))"
   ]
  },
  {
   "cell_type": "code",
   "execution_count": null,
   "id": "38ab2ca9",
   "metadata": {},
   "outputs": [],
   "source": []
  },
  {
   "cell_type": "code",
   "execution_count": 117,
   "id": "5a369bb8",
   "metadata": {},
   "outputs": [],
   "source": [
    "for i in range(0, 72969, 39):\n",
    "    a.loc[a.index[i+1:i+39]]['microbusiness_density-1'] = a.loc[a.index[i:i+38]]['microbusiness_density']"
   ]
  },
  {
   "cell_type": "code",
   "execution_count": 120,
   "id": "77c97eab",
   "metadata": {},
   "outputs": [
    {
     "data": {
      "text/plain": [
       "county            first_day_of_month\n",
       "Abbeville County  2019-08-01            1.335653\n",
       "                  2019-09-01            1.197482\n",
       "                  2019-10-01            1.258892\n",
       "                  2019-11-01            1.228187\n",
       "                  2019-12-01            1.217952\n",
       "                                          ...   \n",
       "Ziebach County    2022-06-01            0.354970\n",
       "                  2022-07-01            0.304260\n",
       "                  2022-08-01            0.304260\n",
       "                  2022-09-01            0.304260\n",
       "                  2022-10-01            0.304260\n",
       "Name: microbusiness_density-1, Length: 72969, dtype: float64"
      ]
     },
     "execution_count": 120,
     "metadata": {},
     "output_type": "execute_result"
    }
   ],
   "source": [
    "a['microbusiness_density-1']"
   ]
  },
  {
   "cell_type": "code",
   "execution_count": 23,
   "id": "5ad70a78",
   "metadata": {},
   "outputs": [
    {
     "ename": "KeyError",
     "evalue": "'Lassen County'",
     "output_type": "error",
     "traceback": [
      "\u001b[0;31m---------------------------------------------------------------------------\u001b[0m",
      "\u001b[0;31mKeyError\u001b[0m                                  Traceback (most recent call last)",
      "File \u001b[0;32m~/opt/anaconda3/lib/python3.9/site-packages/pandas/core/indexes/base.py:3621\u001b[0m, in \u001b[0;36mIndex.get_loc\u001b[0;34m(self, key, method, tolerance)\u001b[0m\n\u001b[1;32m   3620\u001b[0m \u001b[38;5;28;01mtry\u001b[39;00m:\n\u001b[0;32m-> 3621\u001b[0m     \u001b[38;5;28;01mreturn\u001b[39;00m \u001b[38;5;28;43mself\u001b[39;49m\u001b[38;5;241;43m.\u001b[39;49m\u001b[43m_engine\u001b[49m\u001b[38;5;241;43m.\u001b[39;49m\u001b[43mget_loc\u001b[49m\u001b[43m(\u001b[49m\u001b[43mcasted_key\u001b[49m\u001b[43m)\u001b[49m\n\u001b[1;32m   3622\u001b[0m \u001b[38;5;28;01mexcept\u001b[39;00m \u001b[38;5;167;01mKeyError\u001b[39;00m \u001b[38;5;28;01mas\u001b[39;00m err:\n",
      "File \u001b[0;32m~/opt/anaconda3/lib/python3.9/site-packages/pandas/_libs/index.pyx:136\u001b[0m, in \u001b[0;36mpandas._libs.index.IndexEngine.get_loc\u001b[0;34m()\u001b[0m\n",
      "File \u001b[0;32m~/opt/anaconda3/lib/python3.9/site-packages/pandas/_libs/index.pyx:163\u001b[0m, in \u001b[0;36mpandas._libs.index.IndexEngine.get_loc\u001b[0;34m()\u001b[0m\n",
      "File \u001b[0;32mpandas/_libs/hashtable_class_helper.pxi:5198\u001b[0m, in \u001b[0;36mpandas._libs.hashtable.PyObjectHashTable.get_item\u001b[0;34m()\u001b[0m\n",
      "File \u001b[0;32mpandas/_libs/hashtable_class_helper.pxi:5206\u001b[0m, in \u001b[0;36mpandas._libs.hashtable.PyObjectHashTable.get_item\u001b[0;34m()\u001b[0m\n",
      "\u001b[0;31mKeyError\u001b[0m: 'Lassen County'",
      "\nThe above exception was the direct cause of the following exception:\n",
      "\u001b[0;31mKeyError\u001b[0m                                  Traceback (most recent call last)",
      "Input \u001b[0;32mIn [23]\u001b[0m, in \u001b[0;36m<cell line: 3>\u001b[0;34m()\u001b[0m\n\u001b[1;32m      3\u001b[0m \u001b[38;5;28;01mfor\u001b[39;00m c \u001b[38;5;129;01min\u001b[39;00m counties:\n\u001b[1;32m      4\u001b[0m     county_statistics[c] \u001b[38;5;241m=\u001b[39m {}\n\u001b[0;32m----> 5\u001b[0m     mean \u001b[38;5;241m=\u001b[39m \u001b[43mtrain_raw\u001b[49m\u001b[43m[\u001b[49m\u001b[43mc\u001b[49m\u001b[43m]\u001b[49m\u001b[38;5;241m.\u001b[39mmean()\n\u001b[1;32m      6\u001b[0m     county_statistics[c][\u001b[38;5;124m'\u001b[39m\u001b[38;5;124mmean\u001b[39m\u001b[38;5;124m'\u001b[39m] \u001b[38;5;241m=\u001b[39m train_raw[c]\u001b[38;5;241m.\u001b[39mmean()\n\u001b[1;32m      7\u001b[0m     county_statistics[c][\u001b[38;5;124m'\u001b[39m\u001b[38;5;124mvar\u001b[39m\u001b[38;5;124m'\u001b[39m] \u001b[38;5;241m=\u001b[39m train_raw[c]\u001b[38;5;241m.\u001b[39mvar()\n",
      "File \u001b[0;32m~/opt/anaconda3/lib/python3.9/site-packages/pandas/core/frame.py:3505\u001b[0m, in \u001b[0;36mDataFrame.__getitem__\u001b[0;34m(self, key)\u001b[0m\n\u001b[1;32m   3503\u001b[0m \u001b[38;5;28;01mif\u001b[39;00m \u001b[38;5;28mself\u001b[39m\u001b[38;5;241m.\u001b[39mcolumns\u001b[38;5;241m.\u001b[39mnlevels \u001b[38;5;241m>\u001b[39m \u001b[38;5;241m1\u001b[39m:\n\u001b[1;32m   3504\u001b[0m     \u001b[38;5;28;01mreturn\u001b[39;00m \u001b[38;5;28mself\u001b[39m\u001b[38;5;241m.\u001b[39m_getitem_multilevel(key)\n\u001b[0;32m-> 3505\u001b[0m indexer \u001b[38;5;241m=\u001b[39m \u001b[38;5;28;43mself\u001b[39;49m\u001b[38;5;241;43m.\u001b[39;49m\u001b[43mcolumns\u001b[49m\u001b[38;5;241;43m.\u001b[39;49m\u001b[43mget_loc\u001b[49m\u001b[43m(\u001b[49m\u001b[43mkey\u001b[49m\u001b[43m)\u001b[49m\n\u001b[1;32m   3506\u001b[0m \u001b[38;5;28;01mif\u001b[39;00m is_integer(indexer):\n\u001b[1;32m   3507\u001b[0m     indexer \u001b[38;5;241m=\u001b[39m [indexer]\n",
      "File \u001b[0;32m~/opt/anaconda3/lib/python3.9/site-packages/pandas/core/indexes/base.py:3623\u001b[0m, in \u001b[0;36mIndex.get_loc\u001b[0;34m(self, key, method, tolerance)\u001b[0m\n\u001b[1;32m   3621\u001b[0m     \u001b[38;5;28;01mreturn\u001b[39;00m \u001b[38;5;28mself\u001b[39m\u001b[38;5;241m.\u001b[39m_engine\u001b[38;5;241m.\u001b[39mget_loc(casted_key)\n\u001b[1;32m   3622\u001b[0m \u001b[38;5;28;01mexcept\u001b[39;00m \u001b[38;5;167;01mKeyError\u001b[39;00m \u001b[38;5;28;01mas\u001b[39;00m err:\n\u001b[0;32m-> 3623\u001b[0m     \u001b[38;5;28;01mraise\u001b[39;00m \u001b[38;5;167;01mKeyError\u001b[39;00m(key) \u001b[38;5;28;01mfrom\u001b[39;00m \u001b[38;5;21;01merr\u001b[39;00m\n\u001b[1;32m   3624\u001b[0m \u001b[38;5;28;01mexcept\u001b[39;00m \u001b[38;5;167;01mTypeError\u001b[39;00m:\n\u001b[1;32m   3625\u001b[0m     \u001b[38;5;66;03m# If we have a listlike key, _check_indexing_error will raise\u001b[39;00m\n\u001b[1;32m   3626\u001b[0m     \u001b[38;5;66;03m#  InvalidIndexError. Otherwise we fall through and re-raise\u001b[39;00m\n\u001b[1;32m   3627\u001b[0m     \u001b[38;5;66;03m#  the TypeError.\u001b[39;00m\n\u001b[1;32m   3628\u001b[0m     \u001b[38;5;28mself\u001b[39m\u001b[38;5;241m.\u001b[39m_check_indexing_error(key)\n",
      "\u001b[0;31mKeyError\u001b[0m: 'Lassen County'"
     ]
    }
   ],
   "source": [
    "counties = set(train_raw['county'])\n",
    "county_statistics = {}\n",
    "for c in counties:\n",
    "    county_statistics[c] = {}\n",
    "    mean = train_raw[c].mean()\n",
    "    county_statistics[c]['mean'] = mean\n",
    "    county_statistics[c]['var'] = train_raw[c].var()\n",
    "    p95 = train_raw[c].quantile(0.95)\n",
    "    p05 = train_raw[c].quantile(0.05)\n",
    "    county_statistics[c]['p95'] = p95\n",
    "    county_statistics[c]['p05'] = p05\n",
    "    county_statistics[c]['p75'] = (train_raw[c].quantile(0.75) - mean)/ (p95 - mean)\n",
    "    county_statistics[c]['p25'] = (mean - train_raw[c].quantile(0.25))/ (mean - p05)\n",
    "new_knn_all_data = "
   ]
  },
  {
   "cell_type": "code",
   "execution_count": 17,
   "id": "0fdfe29e",
   "metadata": {},
   "outputs": [
    {
     "name": "stderr",
     "output_type": "stream",
     "text": [
      "/var/folders/sz/96l2wmtn19l4dg18frjfvmfm0000gn/T/ipykernel_9161/3301010539.py:15: FutureWarning: Dropping of nuisance columns in DataFrame reductions (with 'numeric_only=None') is deprecated; in a future version this will raise TypeError.  Select only valid columns before calling the reduction.\n",
      "  df = df.fillna(df.median())\n"
     ]
    }
   ],
   "source": [
    "from sklearn.neighbors import KNeighborsRegressor\n",
    "knn_train = pd.merge(left = train_raw, right = census_raw, how = 'left')\n",
    "knn_test = pd.merge(left = test_raw, right = census_raw, how = 'left')\n",
    "knn_all_data = pd.concat([knn_train, knn_test])\n",
    "knn_all_data = knn_all_data.drop(['row_id'], axis = 1)\n",
    "knn_all_data = knn_all_data.drop(['first_day_of_month'], axis = 1)\n",
    "knn_all_data = fill_na(knn_all_data)\n",
    "knn_all_data = one_hot(knn_all_data)\n",
    "NUM_TRAIN = round(len(knn_all_data)*0.8)\n",
    "knn_train = knn_all_data[:NUM_TRAIN]\n",
    "knn_test = knn_all_data[NUM_TRAIN:]\n",
    "\n",
    "X_knn_train = knn_train.drop(['microbusiness_density'], axis = 1)\n",
    "y_knn_train = knn_train['microbusiness_density']\n",
    "X_knn_test = knn_test.drop(['microbusiness_density'], axis = 1)\n",
    "y_knn_test = knn_test['microbusiness_density']"
   ]
  },
  {
   "cell_type": "code",
   "execution_count": null,
   "id": "e27c29ea",
   "metadata": {},
   "outputs": [],
   "source": [
    "knn_"
   ]
  },
  {
   "cell_type": "code",
   "execution_count": 18,
   "id": "432009cf",
   "metadata": {},
   "outputs": [
    {
     "data": {
      "text/plain": [
       "-4.939347827427617"
      ]
     },
     "execution_count": 18,
     "metadata": {},
     "output_type": "execute_result"
    }
   ],
   "source": [
    "knn = KNeighborsRegressor(n_neighbors=3)\n",
    "knn.fit(X_knn_train, y_knn_train)\n",
    "knn.score(X_knn_test,y_knn_test)"
   ]
  },
  {
   "cell_type": "code",
   "execution_count": null,
   "id": "cb84dff4",
   "metadata": {},
   "outputs": [],
   "source": []
  }
 ],
 "metadata": {
  "kernelspec": {
   "display_name": "Python 3 (ipykernel)",
   "language": "python",
   "name": "python3"
  },
  "language_info": {
   "codemirror_mode": {
    "name": "ipython",
    "version": 3
   },
   "file_extension": ".py",
   "mimetype": "text/x-python",
   "name": "python",
   "nbconvert_exporter": "python",
   "pygments_lexer": "ipython3",
   "version": "3.9.12"
  }
 },
 "nbformat": 4,
 "nbformat_minor": 5
}
